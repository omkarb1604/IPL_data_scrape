{
 "cells": [
  {
   "cell_type": "code",
   "execution_count": 599,
   "metadata": {},
   "outputs": [],
   "source": [
    "import requests\n",
    "URL='https://www.cricbuzz.com/cricket-scores/22397/kkr-vs-srh-2nd-match-indian-premier-league-2019'\n",
    "page=requests.get(URL)"
   ]
  },
  {
   "cell_type": "code",
   "execution_count": 600,
   "metadata": {},
   "outputs": [],
   "source": [
    "from bs4 import BeautifulSoup"
   ]
  },
  {
   "cell_type": "code",
   "execution_count": 601,
   "metadata": {},
   "outputs": [],
   "source": [
    "soup=BeautifulSoup(page.content,features='html')"
   ]
  },
  {
   "cell_type": "code",
   "execution_count": 602,
   "metadata": {},
   "outputs": [],
   "source": [
    "results = soup.find(id='matchCenter')"
   ]
  },
  {
   "cell_type": "code",
   "execution_count": 603,
   "metadata": {},
   "outputs": [],
   "source": [
    "#print(results.prettify())"
   ]
  },
  {
   "cell_type": "code",
   "execution_count": 604,
   "metadata": {},
   "outputs": [],
   "source": [
    "comm=results.find_all(class_=\"cb-col cb-col-90 cb-com-ln\")\n",
    "ball=results.find_all(class_=\"cb-col cb-col-8 text-bold\")"
   ]
  },
  {
   "cell_type": "code",
   "execution_count": 605,
   "metadata": {},
   "outputs": [],
   "source": [
    "#comm"
   ]
  },
  {
   "cell_type": "code",
   "execution_count": 606,
   "metadata": {},
   "outputs": [
    {
     "data": {
      "text/plain": [
       "244"
      ]
     },
     "execution_count": 606,
     "metadata": {},
     "output_type": "execute_result"
    }
   ],
   "source": [
    "#len(ball)\n",
    "len(comm)"
   ]
  },
  {
   "cell_type": "code",
   "execution_count": 607,
   "metadata": {},
   "outputs": [],
   "source": [
    "import pandas as pd"
   ]
  },
  {
   "cell_type": "code",
   "execution_count": 608,
   "metadata": {
    "scrolled": true
   },
   "outputs": [],
   "source": [
    "BC=pd.DataFrame({'ball':ball,'comm':comm})"
   ]
  },
  {
   "cell_type": "code",
   "execution_count": 609,
   "metadata": {},
   "outputs": [],
   "source": [
    "comm_text=[]\n",
    "for c in comm:\n",
    "    comm_text.append(c.text)"
   ]
  },
  {
   "cell_type": "code",
   "execution_count": 610,
   "metadata": {},
   "outputs": [
    {
     "data": {
      "text/plain": [
       "[\"Shakib to Shubman Gill, SIX, ho, ho. Another dance down, cleaner to the pitch of it and smokes it into the sightscreen that's taken many a blow tonight. It's a steal, an under-broken-lights robbery. Hyderabad, call the cops!\",\n",
       " 'Shakib to Shubman Gill, no run, flat quick one on the stumps. Gill gets cramped up, just jabbing it back down the pitch. A twist, anybody? 5 needed .. ',\n",
       " \"Shakib to Shubman Gill, SIX, well he's been waiting, and he reminds us that he can tonk them around too for fun. Dances, swings, deep, long, game, set, match\",\n",
       " 'Shakib to A Russell, 1 run, big heave-ho. Only off an under-half into square leg. Hmmm, the bowlers CAN get it right as well ..',\n",
       " 'Shakib to A Russell, wide, quick yorker drifting down leg. Russell smartly walks inside it',\n",
       " 'Bhuvneshwar to A Russell, 1 run, short, wide, slapped, but straight to sweeper. Again, not the worst result for himself, he has his strike .. and 13 off the final over to get ',\n",
       " \"Bhuvneshwar to A Russell, SIX, he's fooled here, but such has been the audacity of this hitting that Russell sends this into the stands as well. Nearly falls over as he tries clubbing one from outside off, but it's his day, and it's well over long-off\",\n",
       " \"Bhuvneshwar to A Russell, no run, smart, Bhuvneshwar has some revenge. Goes wide with his yorker and Russell just can't reach out after backing away to it. He isn't all that good!\",\n",
       " \"Bhuvneshwar to A Russell, FOUR, it's a joke. It really is. It's a yorker, no less, but Russell's adept at squeezing it away from leg-stump with a drill into long-off\",\n",
       " \"Bhuvneshwar to A Russell, SIX, oh he's nearly troubling the electricity board himself, sending this soaring so high and long that to try and clean up the light tower they just repaired. Okay so it's full on leg, and Russell continues clearing his front leg and sending it into the skies over cow corner\",\n",
       " \"Bhuvneshwar to A Russell, FOUR, well, well, well. Bhuvneshwar's got this one to reverse, tailing in sharply on the pads. But Russell's rocked behind in his crease, with all his bottom-hand coming in this whip through mid-wicket\",\n",
       " \"S Kaul to A Russell, 1 run, slammed straight back, bursting through Kaul's palms - who was partly trying to evade. Okay never mind, Russell gets the strike, and 19 off this over\",\n",
       " \"S Kaul to A Russell, FOUR, more carnage. Russell's turning the tables, and turning them with muscle. Kaul dishes out another short sit-up outside off, for Russell to move away to, free up his arms and slap it away powerfully through extra cover\",\n",
       " 'S Kaul to Shubman Gill, 1 run, closer to the blockhole. Swiped down to long-on, not the worst result for KKR, the big man gets his strike back',\n",
       " 'S Kaul to A Russell, 1 run, flat whack across the line. Kaul slows up the pace with a back of a length delivery. One-bounced to the man at cow corner',\n",
       " \"S Kaul to A Russell, SIX, misses the yorker now. Russell gets lesses than half his bat on this, but his biceps will do .. makes room, tonks it straight back, and it's good enough for 77 meters\",\n",
       " 'S Kaul to A Russell, SIX, ah, the dreadful length. Kaul asking for trouble here, and Russell - the compulsive punisher that he is - obliger. Clears out that front leg of his, gets it in his swinging zone and smacks it way over deep mid-wicket',\n",
       " 'Bhuvneshwar to A Russell, 1 run, top stuff. Real clinical EA sports stuff. Perfect yorker on middle, just too good for Russell as he jams his bat down in time, somehow',\n",
       " 'Bhuvneshwar to Shubman Gill, 1 run, tailing in yorker. Gill squeezes it off the inside half to short fine leg',\n",
       " 'Bhuvneshwar to A Russell, 1 run, another slower-wide sticker into the pitch. Russell reaches away to cut, can only chop it away tamely, somewhere into the covers',\n",
       " 'Bhuvneshwar to Shubman Gill, 1 run, short, slower though. Wide. Stabbed away through point',\n",
       " 'Bhuvneshwar to Shubman Gill, 2 runs, neat-looking. But the flowing cover drive it good enough only to caress a couple before long-off gets across and cuts it off',\n",
       " 'Bhuvneshwar to Shubman Gill, no run, yorker, dead-right. Poor Gill can only just squeeze it out',\n",
       " 'Rashid Khan to A Russell, FOUR, picks. Dispatches. Spots it outside off and carves it away, no clobbers it away over extra cover. Almost all the way too ..',\n",
       " 'Rashid Khan to Shubman Gill, 1 run, short again, Gill pulls, no short-arm-jabs it through mid-wicket',\n",
       " 'Rashid Khan to Shubman Gill, no run, slider, quickly angling in from outside off. Under-chopped away to point',\n",
       " \"Rashid Khan to Nitish Rana, out Lbw!! Thank the lights Rashid, it's successfully broken Rana's momentum. A slower leg-break by his standards and Rana tries to carefully nurdle it away after plonking his front leg in front of middle. But no, loses his timing, misses all ends up and the umpire is convinced enough. Rana's convinced to walk off as well, but the ball's striking him in front of leg, could it have spun down? Nitish Rana lbw b Rashid Khan 68(47) [4s-8 6s-3]\",\n",
       " 'Rashid Khan to Nitish Rana, no run, when the reverse succeeds, the conventional fails. Shuffles across, sits, misses, but is struck clearly outside off',\n",
       " 'Rashid Khan to Nitish Rana, FOUR, premeditates the reverse, and knows third man is inside to sweep it neatly over him, perfectly',\n",
       " \"Sandeep Sharma to A Russell, no run, bang in the blockhole .. Russell somehow, somehow doesn't overbalance and fall as he squeezes it out\",\n",
       " \"Sandeep Sharma to Nitish Rana, 1 run, 129.5kph, better. Lower full toss, Rana gets away and carves it away through point, there's Rashid cleaning up in the deep\",\n",
       " 'Sandeep Sharma to Nitish Rana, SIX, juicy. A full toss around the waist, full-paced as well and Rana stays in the arc, in the V and slices it high, 79-meters into long-off',\n",
       " 'Sandeep Sharma to A Russell, 1 run, slower one dug into the pitch. Russell tries hacking it over mid-wicket, but ends up early into it, dragging the miscue out there',\n",
       " 'Sandeep Sharma to Nitish Rana, 1 run, 130.6kph, wide full toss. Rana tries going across the line, skewing it away to long-on',\n",
       " \"Sandeep Sharma to Nitish Rana, wide, 134.5kph, another attempted stretch out, but too greedy - way outside off, and Rana doesn't even bother\",\n",
       " 'Sandeep Sharma to Nitish Rana, no run, 131.7kph, wide low full toss. Rana tries reaching out, eventually toe-ending it out to cover',\n",
       " \"Rashid Khan to Nitish Rana, 1 run, fuller, straighter. Makes Rana's sweep easier, through square leg\",\n",
       " \"Rashid Khan to Nitish Rana, no run, another attempted sweep, but there's barely an appeal, clearly pitching down leg\",\n",
       " \"Rashid Khan to A Russell, 1 run, oops. It's the googly, Russell banks on reading it off the back foot, but is cramped. Also the ball just doesn't rise up, making him crouch in an awkward hurry to jab the inside half of it into mid-wicket\",\n",
       " 'Rashid Khan to Nitish Rana, 1 run, on the back foot, knocking it away neatly behind square',\n",
       " \"Rashid Khan to Nitish Rana, FOUR, just too short. Also the googly going away from him helps, which Rana's quick to pounce on with a fierce cut. And there's no one at point\",\n",
       " \"Rashid Khan to Nitish Rana, no run, Hyderabad review: Not an obvious googly - yup, it's the leggie, but the obvious missed slog-sweep. And Rana's struck on his back thigh pad in front of leg. Many questions here - where's it pitching? Where's it heading? Again, like it was in the first innings, it's taking ages to load the replays for the third umpire. Poor internet speed somewhere in Kolkata, check the fiber cables .. anyway, the front foot is cleared out. Oh and the impact is just down leg\",\n",
       " 'Sandeep Sharma to Nitish Rana, 1 run, 126.9kph, solid crunchy front-footed drive, through point. Also, quite neat to get to his fifty -- his sixth IPL one',\n",
       " 'Sandeep Sharma to A Russell, 1 run, back of a length welcome. On the body and punched down the ground',\n",
       " \"Sandeep Sharma to Karthik, out Caught by Bhuvneshwar!! Perfectly disguised slower one, and nobody's dropping them now. Sandeep has his moral victory, correcting a horrible start and messing around with Karthik's head, who was waiting for it to get quicker. But it sticks in the pitch, with DK committing to his drive, and eventually trying to pull out. The result - a one-handed nothing chip, easy to extra cover close-in. Karthik c Bhuvneshwar b Sandeep Sharma 2(4)\",\n",
       " \"Sandeep Sharma to Karthik, 2 runs, pulled off the front foot, and despite all the running confusion, the throw from deep mid-wicket comes to the wrong end - the bowler's - to be stopping the second\",\n",
       " \"Sandeep Sharma to Nitish Rana, 1 run, backs away in an attempted uppish slice. Doesn't really get under the length, chipping it on the bounce to a deep sweeper\",\n",
       " 'Sandeep Sharma to Nitish Rana, wide, 126.3kph, ahh, the pressure. Sprays it down leg, the round the wicket angle just not helping matters',\n",
       " \"Sandeep Sharma to Nitish Rana, FOUR, too easy. Full pitch up, Rana's down quickly as well, sweeping him with utter disdain into an behind square region. Zero respect\",\n",
       " 'S Kaul to Karthik, no run, 131.2kph. Beaten comprehensively. Karthik tries to drive assuming the angle to come in, only for the line to whizz away, and turn him up on the outside edge',\n",
       " 'S Kaul to Karthik, no run, nothing fancy. Stays in his crease, looks to get behind the line and defends carefully',\n",
       " \"S Kaul to Uthappa, out Bowled!! Off-cartwheel. It's a well-documented strategy -- soften up a batsman with a bumper, and then nail the yorker. Kaul's read that book, and he goes quick, full, on the base of off. Uthappa clearly hasn't, running down the pitch, making room as well to make matters worse and then is too slow in jamming his attempted-driving-bat down. Uthappa b S Kaul 35(27) [4s-3 6s-1]\",\n",
       " 'S Kaul to Uthappa, no run, neat clever bumper. Spots Uthappa on the charge down and drags his length back with a quick off-cutter. And his desperate pull gets nothing ..',\n",
       " 'S Kaul to Nitish Rana, 1 run, 142.3kph, near-yorker on the base of middle. Jammed out, down the pitch for a quick one',\n",
       " 'S Kaul to Uthappa, 1 run, 130.1kph, skidding into middle. Uthappa makes some room, clears his front leg and swipes it down to long-on',\n",
       " 'Shakib to Nitish Rana, no run, another sweep, just that this is too full to be doing so to .. straight to backward square leg in the circle',\n",
       " \"Shakib to Nitish Rana, SIX, oh there's a plan. There's surely a plan, and Shakib is the villan in that plan. Rana's quick to sink down, pick the sitting-up length, get under it and smoke it into cow corner\",\n",
       " 'Shakib to Uthappa, 1 run, full, squeezes the drive, again through the covers',\n",
       " 'Shakib to Uthappa, 2 runs, a tad short again. Uthappa lines up his punch, through the covers',\n",
       " 'Shakib to Uthappa, no run, calm back-footed block, down the pitch',\n",
       " 'Shakib to Uthappa, SIX, flat drag down -- just what Uthappa needs to break his shackles. Camps behind, swings, flat and deposits it deep into square leg',\n",
       " 'Rashid Khan to Uthappa, 1 run, cramped up for room again, but is a lot deeper in the crease as he bunts it down to long-on',\n",
       " \"Rashid Khan to Uthappa, no run, googly. But Uthappa's being way too streaky here. Firstly stands flat-footed in his crease, then all of a sidden realizes the ball's coming in and just about jabs his bat in the way. Somehow, so believe in magic, you muggles. \",\n",
       " 'Rashid Khan to Nitish Rana, 1 run, a big fat edge on the cut, but controls it wide of point',\n",
       " \"Rashid Khan to Nitish Rana, no run, back-of-the-hand googly. Rana's tries to slog it out, slog himself out, but no, can't connect\",\n",
       " 'Rashid Khan to Nitish Rana, no run, 93.1kph. Quick googly. Rana once again remains rooted in the crease, opens up his bat face and steers it straight to short third man',\n",
       " 'Rashid Khan to Nitish Rana, no run, googly. Short. Rana stays on the back foot and wrists his defence back down the pitch',\n",
       " \"Sandeep Sharma to Nitish Rana, 1 run, 114kph, heaved away, mid-wicket's placed perfectly just for this\",\n",
       " \"Sandeep Sharma to Nitish Rana, FOUR, fine leg's inside, and if that's not a legality to go extravagant, nothing is! Rana reads the slower one, shuffles, sits on a knee and sweeps, well past 45\",\n",
       " \"Sandeep Sharma to Uthappa, 1 run, 131.9kph, doesn't give Uthappa the pace he's looking for to work around with. Settles to knock it down to long-on after walking into the line\",\n",
       " 'Sandeep Sharma to Uthappa, no run, big walk across, sits, sweeps. Only onto his pad off the inside-edge',\n",
       " \"Sandeep Sharma to Nitish Rana, 1 run, 132.7kph. Shorter. Swatted, too hard to time it right, loses shape as well, and then watches Bhuvneshwar at a wide mid-on dive and cut off whatever the miscue could've brought\",\n",
       " 'Sandeep Sharma to Uthappa, 1 run, 130.5kph, nipping in off a good length on middle. A waited wristy tuck in front of square',\n",
       " 'Rashid Khan to Uthappa, 1 run, another swinging hoick, with some control though, into mid-wicket',\n",
       " 'Rashid Khan to Nitish Rana, 1 run, backs, opens up his bat face and stabs it wide of point',\n",
       " \"Rashid Khan to Nitish Rana, FOUR, another ugly across-the-line swipe. And Uthappa's luck rubs into Rana, who goes hard, gets a thick top-edge, flying over slip\",\n",
       " \"Rashid Khan to Uthappa, 1 run, a sitter .. and dropped. Yusuf Pathan of all people. Uthappa's done in in his desperate attempt to make room and hoick one downtown. Has absolutely no control, and Pathan has all the time in the world to settle under at long-on, wait, and then let the ball slip through\",\n",
       " 'Rashid Khan to Nitish Rana, leg byes, 1 run, leg-break. On middle, spinning into the pads. Rana whips all around it, but the ricochet off the legs will do',\n",
       " \"Rashid Khan to Uthappa, 1 run, full googly to start 2019. Uthappa tries to drive, doesn't read it and is lucky that the length is really full, digging out an inside-toe-end behind square leg\",\n",
       " \"S Kaul to Uthappa, 1 run, a tad short, skidding onto Uthappa's pull. Quite obviously then coming off the inside half, to long-on\",\n",
       " 'S Kaul to Nitish Rana, 1 run, seems happy to keep knocking them around, this one to long-off',\n",
       " 'S Kaul to Nitish Rana, no run, 132.4kph, length, middle-lined. Rana on-drives, mid-on',\n",
       " 'S Kaul to Uthappa, 1 run, 135kph, nips in off the deck. Uthappa covers it well, staying late, staying soft and nudging it round the corner',\n",
       " 'S Kaul to Nitish Rana, 1 run, 135.8kph, more of the dead-tight stuff on top of the stumps. A settled straight bat, extending his defence down to long-off',\n",
       " 'S Kaul to Nitish Rana, no run, 138kph, length, tight on off. Rana dishes out respect, merely guiding his defence to backward point',\n",
       " 'Shakib to Nitish Rana, 1 run, half a shuffle, closing out the line in tucking it away in front of square',\n",
       " 'Shakib to Uthappa, 1 run, another jump down, Hasan follows him in. They settle for a bunted drive, down to long-on',\n",
       " 'Shakib to Uthappa, FOUR, jumps down, a little too close for comfort eventually, but then has quick hard hands and good enough power in squeezing out this eventual yorker through sweeper. Yup, the powerplay does help ..',\n",
       " 'Shakib to Uthappa, no run, backs away, cuts, but the cramped attempts goes straight to extra cover',\n",
       " 'Shakib to Uthappa, no run, slingy-ier. Loopy-ier. Uthappa presses forward, checks his push down the ground',\n",
       " 'Shakib to Nitish Rana, 1 run, quick skidder, middle-lined. Rana knocks, closing his bat face, into mid-wicket',\n",
       " 'S Kaul to Nitish Rana, 1 run, slower length ball outside off, dabbed down towards third man for a single',\n",
       " 'S Kaul to Uthappa, 1 run, on a good length and at the stumps, worked in front of mid-on for a single',\n",
       " \"S Kaul to Uthappa, FOUR, handy runs for Uthappa, backed away to a full ball and drove with a closed face - Kaul couldn't stop the ball on his followthrough and although it wasn't sweetly struck - managed to beat the diving mid-off fielder\",\n",
       " 'S Kaul to Nitish Rana, 1 run, slower ball from Kaul, nudged behind square on the on-side for a single',\n",
       " 'S Kaul to Uthappa, 1 run, length ball at the stumps, worked away in front of square on the on-side for a single',\n",
       " \"S Kaul to Uthappa, 2 runs, on a length and sliding into Uthappa's pads, clipped away behind square on the on-side, only a sliding stop from Rashid in the deep saves the boundary\",\n",
       " 'Sandeep Sharma to Nitish Rana, FOUR, edged and four, the slower off-cutter from Sandeep, did Rana in for pace - was early into the drive and the thick edge runs past the keeper for a boundary',\n",
       " 'Sandeep Sharma to Nitish Rana, no run, change of pace from Sandeep, slower ball outside off, Rana leant forward and finds cover with the drive',\n",
       " 'Sandeep Sharma to Nitish Rana, no run, on a good length and just outside off, Rana drops it in front of cover-point, Uthappa wanted a quick single and is sent back',\n",
       " \"Sandeep Sharma to Nitish Rana, SIX, beautifully played, tad too full from Sandeep, Rana leans forward, drives it on the up and clears mid-on with ease - the timing is so sweet that the ball lands on the ropes and it's a maximum\",\n",
       " 'Sandeep Sharma to Nitish Rana, FOUR, lovely, fuller length delivery and at the stumps, Rana leans forward, head on top of the ball and then lets his wrists take over - drives it sumptuously wide of mid-wicket for a boundary',\n",
       " 'Sandeep Sharma to Nitish Rana, no run, on a good length and just outside off, Rana squirts with an open face towards mid-off',\n",
       " 'Bhuvneshwar to Uthappa, no run, fuller length delivery outside off, Uthappa leans forward and finds mid-off with the drive',\n",
       " 'Bhuvneshwar to Uthappa, FOUR, nicely done, short of a length and at the stumps, Uthappa gets inside the line and tucks it fine - backward square leg was inside the ring and has no chance',\n",
       " 'Bhuvneshwar to Nitish Rana, 1 run, tad fuller and just outside off, Rana drops it in front of cover-point and calls his partner across for a single',\n",
       " 'Bhuvneshwar to Nitish Rana, no run, on a good length and just outside off, Rana leans forward and finds mid-off with the drive',\n",
       " 'Bhuvneshwar to Nitish Rana, no run, back of a length and just outside off, cracked off the back-foot and straight to cover-point',\n",
       " \"Bhuvneshwar to Nitish Rana, FOUR, clumsy from Rashid and he looks to be in some trouble - short of a length and well outside off, Rana gets on top of the bounce and cracked it straight to cover-point - Rashid jammed his fingers at the ball and let it slip through. 'It's paining', he says cheekily later\",\n",
       " \"Shakib to Chris Lynn, out Caught by Rashid Khan!! That looked ugly, but Shakib has his man. A pre-empted charge from Lynn, Shakib saw it coming and fired the slider - kept coming with the angle and cramped Lynn for room - he looked very awkward as he tried to force it away - off the toe-end of the bat and scooped in the air towards cover-point. Rashid under the ball and he doesn't drop those. Chris Lynn c Rashid Khan b Shakib 7(11) [6s-1]\",\n",
       " 'Shakib to Chris Lynn, no run, Shakib held this one back as Lynn came down the track - pushed back at the bowler',\n",
       " 'Shakib to Chris Lynn, no run, slower and just outside off, Lynn leans half-forward and pushes it to cover',\n",
       " 'Shakib to Chris Lynn, no run, pushed through with a flatter trajectory, cramped for room, Lynn pushes it back at the bowler',\n",
       " \"Shakib to Chris Lynn, SIX, lovely, a little shimmy down the track, Lynn gets close to the ball and then lifts it nonchalantly over long-on - a towering hit and he's off and running\",\n",
       " 'Shakib to Chris Lynn, no run, full and drifting into the right-hander, Lynn went hard on the drive and gets an inside edge onto the pads',\n",
       " 'Bhuvneshwar to Nitish Rana, no run, short of a length and just outside off, defended back at the bowler',\n",
       " 'Bhuvneshwar to Chris Lynn, 1 run, on a good length and just outside off, driven in front of mid-off and Lynn scampered across for a quick single - always risky taking on Warner, but think he beat the throw',\n",
       " 'Bhuvneshwar to Chris Lynn, no run, Bhuvneshwar shortens his length and gets it to nip back into the right-hander, had Lynn pushing forward and the inside edge ricochets off his thigh pad',\n",
       " 'Bhuvneshwar to Chris Lynn, no run, fraction fuller and just outside off, pushed back at the bowler',\n",
       " 'Bhuvneshwar to Chris Lynn, no run, on a good length and just outside off, Lynn leans forward and finds cover with the drive',\n",
       " 'Bhuvneshwar to Chris Lynn, no run, beaten, cracking start from Bhuvneshwar, shortens his length and gets it to keep coming back into the right-hander, Lynn was cut in half as he got his bat down late - fizzled over the top of the middle-stump',\n",
       " \"Ferguson to Shankar, 2 runs, a run-out appeal and the third umpire will have a look. Shankar was scampering back, but has he beaten Shubman's throw? Oh yes, he's well in and SRH finish with 181. Very full and well outside off, squeezed away square on the off-side and Shankar was always coming back for the second run, the throw and was flat and accurate, but not enough to beat the sprinting batsman\",\n",
       " \"Ferguson to Shankar, 2 runs, very full and at the stumps, Shankar gets his left leg out and chips it back over the bowler's head, Prasidh did very well to get across from long-off, slid and then pulled the ball back in - saved two runs for his team\",\n",
       " 'Ferguson to Shankar, FOUR, much-needed boundary for Shankar, spotted the slower ball and then delayed the pull, gets it wide of mid-wicket and runs away to the ropes',\n",
       " 'Ferguson to Manish Pandey, 1 run, full and at the stumps, Manish clears his left leg and finds long-on with the drive',\n",
       " 'Ferguson to Shankar, 1 run, yorker length delivery on off, squeezed down towards long-on for a single',\n",
       " 'Ferguson to Manish Pandey, 1 run, slower delivery outside off, eased away square on the off-side for a single',\n",
       " 'Prasidh to Shankar, FOUR, handy runs for Shankar, on a length and tailing back into the right-hander, he waited on it and then clipped it backward of square on the on-side - right in the gap between the two fielders in the ring and it runs away to the ropes',\n",
       " \"Prasidh to Shankar, no run, Shankar has been given OUT LBW and he wants a review. Was the ball tailing enough to miss the leg-stump? It's a fair delivery, think there's no bat on that and I feel it's sliding down - the impact seems to be in front of leg. UltraEdge confirms that there's no bat on that. Hawk-Eye in: Missing and Shankar survives. Low full-toss and the late tail beat Shankar's attempted whip, struck him low and was going down with the angle\",\n",
       " 'Prasidh to Shankar, no run, good comeback from Prasidh, spotted Shankar backing away and went full and wide of off, Shankar had to reach out for the shot and missed',\n",
       " 'Prasidh to Shankar, SIX, cracking shot, the slower ball from Prasidh, but the ball simply sat up to be smacked, Shankar made room and clears long-on by a distance - simply stunning from Shankar',\n",
       " 'Prasidh to Manish Pandey, 1 run, on a good length and well outside off, Manish was in an awkward position on the drive, spoons it in the air and well in front of long-off',\n",
       " \"Prasidh to Shankar, leg byes, 1 run, low full-toss on Shankar's pads, he was looking to flick and missed, off the pads and rolled towards cover-point for a leg-bye\",\n",
       " 'A Russell to Manish Pandey, FOUR, cracking shot, the slower ball and Manish spotted it, backed away and slapped it in the gap wide of cover, no chance for the men in the ring and Manish collects his first boundary',\n",
       " 'A Russell to Shankar, 1 run, on a good length and just outside off, driven towards cover for a single',\n",
       " 'A Russell to Manish Pandey, 1 run, cheeky and Manish nearly holed out to third man, banged in short and just outside off, Manish waited on it and then ramped it over the keeper - was in the air for a long while and think Kuldeep could have gone for the catch, but he opted out and collected it on the bounce',\n",
       " 'A Russell to Y Pathan, out Bowled!! Cleaned up! A nothing shot from Yusuf and KKR are coming back strongly into the contest. Change of pace and Yusuf was done in like a kipper. The slower off-cutter, rolled his fingers across the seam, Yusuf went nowhere on the swing, feet rooted to the crease as he swung across in hope - missed it completly, the ball clipped the back-pad before smashing into the middle-stump. Y Pathan b A Russell 1(4)',\n",
       " 'A Russell to Shankar, 1 run, Russell shortens his length outside off, hacked away towards long-on for a single',\n",
       " 'A Russell to Shankar, 2 runs, low full-toss outside off, Shankar opens the face of the bat at the last moment and steers it behind square on the off-side. Kuldeep gets across to his right and keeps them down to a couple',\n",
       " 'Ferguson to Shankar, 1 run, Ferguson keeps it full and well outside off, driven towards long-off for a single, just 5 singles off the over',\n",
       " 'Ferguson to Y Pathan, 1 run, short and at the body of Yusuf, no room to free his arms and the mistimed shovel lobs wide of mid-wicket for a single',\n",
       " 'Ferguson to Shankar, 1 run, full and wide of off, Shankar throws his hands at that, gets a thick edge towards third man',\n",
       " \"Ferguson to Y Pathan, byes, 1 run, this is turning out to be a fine over, the back of the hand slower ball from Ferguson - Yusuf was way too early on the pull and missed it by a mile. DK can't stop it cleanly and allows a bye\",\n",
       " \"Ferguson to Y Pathan, no run, that's a lovely delivery, a perfect yorker, around off and all Yusuf can do is to dig it out at the bowler\",\n",
       " 'Ferguson to Shankar, 1 run, fuller length delivery outside off, driven to deep cover for a single',\n",
       " \"A Russell to Warner, out Caught by Uthappa!! That's a smart catch from Uthappa and didn't KKR need this - Warner will be kicking himself though, a wide half-volley and he creamed it sweetly - the timing was sweet, but Warner didn't hit the gap - was travelling to his left, but Uthappa slid across, got both hands to it and holds on. Can this make a difference of 15-20 runs? Warner c Uthappa b A Russell 85(53) [4s-9 6s-3]\",\n",
       " 'A Russell to Shankar, 1 run, nicely bowled by Russell, very full and at the stumps, pushed towards cover for a single',\n",
       " 'A Russell to Warner, 1 run, wide full-toss from Russell, driven straight to the fielder at extra-cover for a single',\n",
       " \"A Russell to Warner, SIX, clubbed, that's sheer power from Warner, back of a length and at the stumps, was the slower ball from Russell - Warner waits on it and then punches it back over the bowler's head - the timing is sweet and the ball sails over the ropes for a maximum\",\n",
       " 'A Russell to Shankar, 1 run, back of a length and just outside off, Shankar waits on it and runs it down to third man',\n",
       " 'A Russell to Warner, 1 run, yorker length delivery at the stumps, turned out to be a low full-toss and Warner pushes it to mid-off',\n",
       " 'Prasidh to Warner, 1 run, another slower ball from Krishna, sliding down the leg-side, tucked to short fine for a single',\n",
       " 'Prasidh to Shankar, 1 run, fuller length delivery at the stumps, pushed in front of long-on for a single',\n",
       " 'Prasidh to Warner, 1 run, back of a length and just outside off, steered to the right of backward point where Nitish makes a sliding stop',\n",
       " 'Prasidh to Warner, no run, change of pace from Krishna, shortened his length and got it to angle across the left-hander, bowled with a scrambled seam, Warner was way too early on the pull and is beaten for pace',\n",
       " 'Prasidh to Shankar, 1 run, short of a good length and well outside off, dabbed down towards third man for a single',\n",
       " \"Prasidh to Warner, leg byes, 1 run, full and slanting into Warner's pads, he was looking to flick and missed, off the pads and rolled to the off-side\",\n",
       " 'Narine to Shankar, no run, nicely tossed up outside off, Shankar prods forward and pushes it towards cover',\n",
       " \"Narine to Shankar, 2 runs, flatter and on Shankar's pads, clipped away backward of square on the on-side for a couple of runs\",\n",
       " \"Narine to Shankar, SIX, massive, I reckon SRH got the better trade - after they let Dhawan go, picked the wrong 'un, went down low and swipes it it high and over square leg for a maximum\",\n",
       " 'Narine to Shankar, 2 runs, nicely tossed up outside off, Shankar leans forward and then chips it over cover, comes back for the second run',\n",
       " 'Narine to Warner, 1 run, just short of Piyush at short third man, Warner had to reach out to this wide loopy delivery - sliced it in the air and it fell in front of short third man, Shankar called him through for a single and beats the throw from Piyush',\n",
       " 'Narine to Warner, no run, pushed through outside off and turning away, Warner backed away on the cut and missed',\n",
       " 'Chawla to Shankar, no run, tossed up on off, Shankar gets close to the ball and finds mid-wicket with the flick',\n",
       " \"Chawla to Bairstow, out Bowled!! This was coming, Bairstow was getting edgy with every dot delivery - this was the wrong 'un, slower and spinning back into the right-hander, think Bairstow picked it as he rocked back on the pull - beaten by the lack of pace, went through with the shot a fraction too early and ended up losing his off-stump. But he has played his role, not a bad first knock at the IPL. Bairstow b Chawla 39(35) [4s-3 6s-1]\",\n",
       " 'Chawla to Bairstow, no run, pushed through quicker and flatter, Bairstow makes room and pushes it back at the bowler as he was hurried onto the shot',\n",
       " 'Chawla to Warner, 1 run, tad fuller and at the stumps, Warner bends down low and sweeps it past square leg for a single',\n",
       " \"Chawla to Warner, FOUR, lovely, the wrong 'un from Piyush, but the length is well short, Warner makes room and clatters it over cover for a boundary\",\n",
       " \"Chawla to Bairstow, 1 run, the wrong 'un from Piyush, Bairstow backs away and chops it square past point for a single\",\n",
       " 'Ferguson to Bairstow, leg byes, 1 run, much better from Ferguson, the slower bouncer, Bairstow was way too early on the pull, lobbed off the shoulder and rolled behind square on the off-side for a leg-bye',\n",
       " 'Ferguson to Bairstow, FOUR, streaky and four, short of a length and at the stumps, Bairstow was backing away on the pull, gets a thick inside edge that flies over the top of leg-stump',\n",
       " \"Ferguson to Warner, 1 run, that's a sitter and DK has dropped it - KKR have been very untidy in the field today, short and angling down the leg-side, Warner was looking to pull, went off the inside half of the glove - was travelling but it didn't go wide of the keeper - he grabbed at it and shelled\",\n",
       " 'Ferguson to Warner, 2 runs, another high full-toss from Ferguson as he tried to follow Warner - clipped past square leg and the left-hander scampers back for the second run',\n",
       " 'Ferguson to Warner, 2 runs, Ferguson shortens his length on off, Warner backs away and chops it square on the off-side, scampers back quickly and completes the second run',\n",
       " 'Ferguson to Bairstow, 1 run, almost chopped on, on a good length and well outside off, Bairstow played well away from his body, gets an inside edge past the off-stump for a single',\n",
       " 'Nitish Rana to Bairstow, 1 run, Nitish fires this one quicker as Bairstow came down the track, driven to the right of the bowler who makes a half-stop',\n",
       " \"Nitish Rana to Warner, 1 run, slower and just outside off, driven down towards long-off for a single, raises SRH's 100\",\n",
       " \"Nitish Rana to Bairstow, 1 run, chance and Gill has dropped it, would have been a fine catch - he did well to get to the ball, had to go one handed, parried it in the air and then couldn't get across on the rebound - would have been a screamer had he held on. Coming to the ball, Bairstow backed away to a well flighted delivery and drilled it inside out - wide of cover\",\n",
       " 'Nitish Rana to Warner, 1 run, nicely tossed up on off, Warner makes room and drives it down to long-off for a single',\n",
       " 'Nitish Rana to Bairstow, 1 run, tossed up at the stumps, driven down towards long-on for a single',\n",
       " 'Nitish Rana to Bairstow, FOUR, cracking shot, dropped short and wide of off, Bairstow makes room and clatters it behind square on the off-side for a boundary',\n",
       " 'Kuldeep Yadav to Warner, SIX, Warner is in top gear! Tad short around off, the southpaw reaches out for it and thumps it right over long-on. Six more and Sunrisers have moved on to 92 after the first 10 overs, Warner has scored 62 of them',\n",
       " 'Kuldeep Yadav to Bairstow, 1 run, down on his knee as he slogsweeps the overpitched delivery to deep square leg',\n",
       " 'Kuldeep Yadav to Warner, 1 run, very slow through the air, wide too, Warner punches it to right of cover for a single',\n",
       " 'Kuldeep Yadav to Bairstow, 1 run, slider outside off, Bairstow rocks back and punches it through covers, single more',\n",
       " 'Kuldeep Yadav to Warner, 1 run, dipping into the batsman around middle and leg, Warner swings hard and gets an inside edge towards short fine leg',\n",
       " 'Kuldeep Yadav to Warner, no run, wide outside off, Warner drives it towards cover',\n",
       " 'A Russell to Warner, 1 run, short of a length outside off, Warner pats it to the fielder at point with soft hands and retains strike',\n",
       " 'A Russell to Warner, SIX, fifty on comeback for Warner! His 37th fifty in the history of IPL. Gets there in grand style with a six. Latches on to the short ball and slices it over third man. The fielder was sprinting across but he could do nothing more than watching this sail over him',\n",
       " 'A Russell to Warner, FOUR, impeccable power on that! Width on offer and Warner slams it past the fielder at covers. Just a boundary away from a lightning quick fifty, is Warner. Narine is walking off the field as he got hit on his nails while trying to stop this bullet that was fired at him',\n",
       " 'A Russell to Bairstow, 1 run, skiddy length delivery outside off, very close to off-stump, Bairstow chops it towards point off an inside edge',\n",
       " 'A Russell to Warner, 1 run, low full toss outside off, Warner leans forward and drills it through covers',\n",
       " 'A Russell to Warner, no run, short in length outside off, touch slow, Warner swings across the line and gets an inside edge towards square leg',\n",
       " 'Narine to Bairstow, no run, appeal for an lbw! Turned down. The off spinner around off, Bairstow looks to flick across the line but gets beaten and is struck on the pads. The impact was in line but there was probably an inside edge that saved him',\n",
       " 'Narine to Bairstow, no run, flighted delivery around off, spinning away from the batsman who dabs it towards the man at point',\n",
       " 'Narine to Warner, 1 run, flatter and quicker outside off, Warner knocks it down to long-off for an easy single',\n",
       " 'Narine to Bairstow, 1 run, floated around middle and leg, Bairstow swipes this one towards deep mid-wicket on a bounce',\n",
       " 'Narine to Bairstow, FOUR, played! Finesse in that shot. Goes down on his knee and scoops the floater right past the keeper. No fine leg in place and that shall be four runs for YJB',\n",
       " 'Narine to Warner, 1 run, short and wide outside off, Warner reaches out for it and punches it through covers for a single',\n",
       " \"Kuldeep Yadav to Warner, 1 run, short in length outside off and it's been punched through covers by Warner\",\n",
       " 'Kuldeep Yadav to Bairstow, 1 run, back in his crease to manoeuvre this one through covers for a single',\n",
       " 'Kuldeep Yadav to Warner, 1 run, knocks the short ball towards long-off for a single',\n",
       " 'Kuldeep Yadav to Warner, no run, was that a dropped chance? Looks like. Warner had got a feather on his flick but Karthik behind the wickets fails to latch on to the ball and the dangerous opener gets a life. How costly will that prove to be?',\n",
       " 'Kuldeep Yadav to Warner, FOUR, class! Returning to the IPL after a couple of years but it seems he never left. Premeditates and puts this one away to the third man fence with a fine reverse sweep',\n",
       " 'Kuldeep Yadav to Bairstow, 1 run, short in length outside off, Bairstow goes deep in his crease and punches it through the gap at covers, just a single',\n",
       " \"Narine to Warner, no run, dot ball, a rarity. Keeps it around off and Warner knocks it towards the fielder at mid-off'\",\n",
       " \"Narine to Warner, FOUR, another loosener down the leg side and it's been hacked through square leg by Warner. Clears the infield convincingly for four more\",\n",
       " 'Narine to Warner, FOUR, fine start for SRH as the 50 comes up! A long hop down the leg side and Warner drags it past the fielder at short fine leg. Struggling with his lines is Narine',\n",
       " 'Narine to Bairstow, 1 run, spinning into the batsman around middle and leg, Bairstow nudges it in front of deep mid-wicket with soft hands for nothing more than a single',\n",
       " 'Narine to Warner, 1 run, offbreak around off, Warner bunts it to the left of Narine and takes a single',\n",
       " 'Narine to Bairstow, 1 run, floated delivery around middle and leg, Bairstow swings hard but all he can manage is an inside edge towards short fine leg',\n",
       " \"Ferguson to Warner, FOUR, boundary to end the over! That'll spoil his first over. Bowls a low full toss outside off and Warner carves it through the gap at covers. The outfield does the rest\",\n",
       " \"Ferguson to Warner, 2 runs, high full tosss that dips into the batsman, Warner was cramped for room but he manages to get away with it. Had clipped it towards mid-wicket where Uthappa's dive wasn't enough as the ball dipped in front of him, two runs taken eventually\",\n",
       " 'Ferguson to Warner, no run, spears this one into the batsman from wide of the crease and Warner has flicked it towards the fielder at mid-wicket',\n",
       " 'Ferguson to Bairstow, 1 run, bunts the length delivery towards mid-wicket and gets a single, was a slower one probably',\n",
       " 'Ferguson to Bairstow, 2 runs, brilliant stop by Krishna at square third man! Saves a boundary by sprinting across and plucking it out of thin air. Was angled into the batsman on a length and Bairstow got a leading edge towards square third man as he swung across blindly',\n",
       " \"Ferguson to Bairstow, no run, that's a excellent delivery to start off. Bairstow probably didn't spot it, so fast it was. Fires in a fullish delivery around off and Bairstow gets beaten on his drive, so close to that outside edge\",\n",
       " 'Chawla to Warner, no run, loose delivery to end the over but Warner has hit it straight to the fielder. A short delivery outside off, Warner treks back and finds the man at cover with his back foot punch',\n",
       " \"Chawla to Bairstow, 1 run, yet another wrong 'un by Chawla and Bairstow knocks it down to long-on for a single\",\n",
       " 'Chawla to Bairstow, no run, fires this one on a full length around off, Bairstow defends it in front of cover-point',\n",
       " \"Chawla to Bairstow, SIX, thumped down the ground! Bairstow shimmies down the wicket, converts it into a half volley and lofts it right over the bowler's head. Couldn't have hit a better shot\",\n",
       " 'Chawla to Bairstow, 2 runs, short in length around middle and leg, Bairstow tucks it through mid-wicket for a couple of runs',\n",
       " \"Chawla to Bairstow, no run, SRH review: Bairstow has been adjudged lbw and he's decided to challenge the umpire's call. Is there an inside edge? There certainly is a sound. Yup, there's a spike on the UltraEdge and Jonny survives. Was the googly that beat the batsman's flick and struck him on the pads\",\n",
       " 'Prasidh to Warner, FOUR, stand and deliver! No need to move, anyone. Stay put. Short in length around off, Warner rocks back and pulls it over mid-wicket. No fielders in the deep and that shall be four runs to end the over',\n",
       " 'Prasidh to Bairstow, 1 run, good fielding by Russell! Bairstow had timed his flick to perfection but Dre Russ sprints to his right from mid-on, puts in a dive and plucks it in his right hand, saves a boundary',\n",
       " 'Prasidh to Bairstow, no run, curving away from the batsman outside off, tad full in length, Bairstow looks to drive it away from his body and gets beaten on his outside edge',\n",
       " \"Prasidh to Bairstow, no run, skiddy back of a length delivery outside off, Bairstow is a touch late to bring his bat down as his attempted cut doesn't connect\",\n",
       " 'Prasidh to Warner, 3 runs, in the channel outside off, on a good length, Warner makes room and swings his bat, loses his shape too and chips it over covers for three runs',\n",
       " 'Prasidh to Bairstow, 1 run, fires in a low full toss on the pads and Bairstow works it through square leg for a single',\n",
       " 'Chawla to Warner, no run, in the channel outside off, darts it and Warner gently punches it to the man at cover-point',\n",
       " \"Chawla to Warner, no run, KKR review: They have decided to challenge the umpire's call against Warner. But for me, it's clearly pitching outside leg. Was the googly that beat the batsman's flick and struck him on the pads. Might have crashed into the stumps but if it's pitching outside leg, it makes no sense. Awful review by KKR. Not out is the final verdict\",\n",
       " 'Chawla to Warner, FOUR, second boundary of the over! Not a great start by Chawla. Darts this one around off and Warner thumps it through the gap at covers once again. The outfield is lightning quick',\n",
       " 'Chawla to Warner, no run, fullish and quicker too, Warner flicks it to the fielder at mid-wicket',\n",
       " 'Chawla to Warner, FOUR, first boundary for SRH and Warner! Another googly by Chawla, the southpaw rocks back and places it right through the gap at covers with a firm backfoot punch',\n",
       " 'Chawla to Warner, no run, starts off with a quicker googly, Warner brings his bat down and defends it',\n",
       " 'Prasidh to Warner, 1 run, back of a length on the pads and Warner tucks it through square leg for a single and retains strike',\n",
       " 'Prasidh to Bairstow, leg byes, 1 run, gives nothing away on the free hit though! Bairstow was looking to smack it over mid-wicket with a wild swing but Prasidh denies him any room and the batsman is struck hard, right on the box',\n",
       " \"Prasidh to Bairstow, no ball, that's a nasty beamer! Bairstow got surprised by it and failed to lay bat on ball as he tried to fend it away. Wayward start this has been by Prasidh Krishna. Struggling with his lines and lenghts\",\n",
       " 'Prasidh to Warner, 1 run, sloppy effort by Lynn! Should have been stopped, this. Warner had flicked the overpitched delivery to short mid-wicket where the Australian misfields and gives away a single',\n",
       " \"Prasidh to Warner, no run, that's a better delivery. Hits back of a length and slants it across the batsman, Warner attempts a square cut but mistimes it towards point\",\n",
       " \"Prasidh to Warner, wide, doesn't want to provide any width to Warner but he's sticking to his line. Another swinging delivery down the leg side, the batsman attempts a flick and misses\",\n",
       " 'Prasidh to Warner, 2 runs, aims the pads once again with this low full toss, Warner calmly clips it to deep backward square leg and manages to open his account with a couple of runs',\n",
       " 'Prasidh to Warner, wide, another fullish delivery with enormous swing, down the leg side though, Warner leaves and Karthik gathers it nicely behind the wickets',\n",
       " \"Prasidh to Warner, no run, swing right away! Good start by Prasidh. Swinging into the batsman on a fullish length, a rather low full toss that beats Warner's flick and hits him on the pads. The impact was on leg and the movement might have taken it down the leg side\"]"
      ]
     },
     "execution_count": 610,
     "metadata": {},
     "output_type": "execute_result"
    }
   ],
   "source": [
    "comm_text"
   ]
  },
  {
   "cell_type": "code",
   "execution_count": 611,
   "metadata": {},
   "outputs": [],
   "source": [
    "ball_text=[]\n",
    "for b in ball:\n",
    "    ball_text.append(b.text)\n",
    "for i in range(len(ball_text)):\n",
    "    ball_text[i]=float(ball_text[i])"
   ]
  },
  {
   "cell_type": "code",
   "execution_count": 612,
   "metadata": {},
   "outputs": [],
   "source": [
    "#Functions to make Dataframes of respective string\n",
    "def makedf(str,comm_text,ball_text):\n",
    "    ball_raw=[]\n",
    "    comm_raw=[]\n",
    "    for i in range(len(comm_text)):\n",
    "        if str in comm_text[i]:\n",
    "            comm_raw.append(comm_text[i])\n",
    "            ball_raw.append(ball_text[i])\n",
    "    return ball_raw,comm_raw\n",
    "def splitdf(df):\n",
    "    for i in range(1,len(df)):\n",
    "        if df['ball'][i]>df['ball'][i-1]:\n",
    "            df1 = df.iloc[:i, :]\n",
    "            df2 = df.iloc[i:, :]\n",
    "    return df1,df2"
   ]
  },
  {
   "cell_type": "code",
   "execution_count": 622,
   "metadata": {},
   "outputs": [
    {
     "data": {
      "text/html": [
       "<div>\n",
       "<style scoped>\n",
       "    .dataframe tbody tr th:only-of-type {\n",
       "        vertical-align: middle;\n",
       "    }\n",
       "\n",
       "    .dataframe tbody tr th {\n",
       "        vertical-align: top;\n",
       "    }\n",
       "\n",
       "    .dataframe thead th {\n",
       "        text-align: right;\n",
       "    }\n",
       "</style>\n",
       "<table border=\"1\" class=\"dataframe\">\n",
       "  <thead>\n",
       "    <tr style=\"text-align: right;\">\n",
       "      <th></th>\n",
       "      <th>ball</th>\n",
       "      <th>comm</th>\n",
       "    </tr>\n",
       "  </thead>\n",
       "  <tbody>\n",
       "    <tr>\n",
       "      <td>0</td>\n",
       "      <td>19.4</td>\n",
       "      <td>Shakib to Shubman Gill, SIX, ho, ho. Another d...</td>\n",
       "    </tr>\n",
       "    <tr>\n",
       "      <td>1</td>\n",
       "      <td>19.3</td>\n",
       "      <td>Shakib to Shubman Gill, no run, flat quick one...</td>\n",
       "    </tr>\n",
       "    <tr>\n",
       "      <td>2</td>\n",
       "      <td>19.2</td>\n",
       "      <td>Shakib to Shubman Gill, SIX, well he's been wa...</td>\n",
       "    </tr>\n",
       "    <tr>\n",
       "      <td>3</td>\n",
       "      <td>19.1</td>\n",
       "      <td>Shakib to A Russell, 1 run, big heave-ho. Only...</td>\n",
       "    </tr>\n",
       "    <tr>\n",
       "      <td>4</td>\n",
       "      <td>19.1</td>\n",
       "      <td>Shakib to A Russell, wide, quick yorker drifti...</td>\n",
       "    </tr>\n",
       "    <tr>\n",
       "      <td>...</td>\n",
       "      <td>...</td>\n",
       "      <td>...</td>\n",
       "    </tr>\n",
       "    <tr>\n",
       "      <td>116</td>\n",
       "      <td>0.5</td>\n",
       "      <td>Bhuvneshwar to Chris Lynn, 1 run, on a good le...</td>\n",
       "    </tr>\n",
       "    <tr>\n",
       "      <td>117</td>\n",
       "      <td>0.4</td>\n",
       "      <td>Bhuvneshwar to Chris Lynn, no run, Bhuvneshwar...</td>\n",
       "    </tr>\n",
       "    <tr>\n",
       "      <td>118</td>\n",
       "      <td>0.3</td>\n",
       "      <td>Bhuvneshwar to Chris Lynn, no run, fraction fu...</td>\n",
       "    </tr>\n",
       "    <tr>\n",
       "      <td>119</td>\n",
       "      <td>0.2</td>\n",
       "      <td>Bhuvneshwar to Chris Lynn, no run, on a good l...</td>\n",
       "    </tr>\n",
       "    <tr>\n",
       "      <td>120</td>\n",
       "      <td>0.1</td>\n",
       "      <td>Bhuvneshwar to Chris Lynn, no run, beaten, cra...</td>\n",
       "    </tr>\n",
       "  </tbody>\n",
       "</table>\n",
       "<p>121 rows × 2 columns</p>\n",
       "</div>"
      ],
      "text/plain": [
       "     ball                                               comm\n",
       "0    19.4  Shakib to Shubman Gill, SIX, ho, ho. Another d...\n",
       "1    19.3  Shakib to Shubman Gill, no run, flat quick one...\n",
       "2    19.2  Shakib to Shubman Gill, SIX, well he's been wa...\n",
       "3    19.1  Shakib to A Russell, 1 run, big heave-ho. Only...\n",
       "4    19.1  Shakib to A Russell, wide, quick yorker drifti...\n",
       "..    ...                                                ...\n",
       "116   0.5  Bhuvneshwar to Chris Lynn, 1 run, on a good le...\n",
       "117   0.4  Bhuvneshwar to Chris Lynn, no run, Bhuvneshwar...\n",
       "118   0.3  Bhuvneshwar to Chris Lynn, no run, fraction fu...\n",
       "119   0.2  Bhuvneshwar to Chris Lynn, no run, on a good l...\n",
       "120   0.1  Bhuvneshwar to Chris Lynn, no run, beaten, cra...\n",
       "\n",
       "[121 rows x 2 columns]"
      ]
     },
     "execution_count": 622,
     "metadata": {},
     "output_type": "execute_result"
    }
   ],
   "source": [
    "match=pd.DataFrame({'ball':ball_text,'comm':comm_text})\n",
    "innings1,innings2=splitdf(match)"
   ]
  },
  {
   "cell_type": "code",
   "execution_count": 613,
   "metadata": {},
   "outputs": [],
   "source": [
    "def splitinnings(str,comm_text,ball_text):\n",
    "    sb,sc=makedf(str,comm_text,ball_text)\n",
    "    df=pd.DataFrame({'ball':sb,'comm':sc})\n",
    "    if df.dropna().empty == True:\n",
    "        return 0\n",
    "    else:\n",
    "        a,b=splitdf(df)\n",
    "        return a,b"
   ]
  },
  {
   "cell_type": "code",
   "execution_count": 614,
   "metadata": {},
   "outputs": [
    {
     "ename": "UnboundLocalError",
     "evalue": "local variable 'df1' referenced before assignment",
     "output_type": "error",
     "traceback": [
      "\u001b[0;31m---------------------------------------------------------------------------\u001b[0m",
      "\u001b[0;31mUnboundLocalError\u001b[0m                         Traceback (most recent call last)",
      "\u001b[0;32m<ipython-input-614-bbf6d36d2bfa>\u001b[0m in \u001b[0;36m<module>\u001b[0;34m\u001b[0m\n\u001b[1;32m      3\u001b[0m \u001b[0msingles_1\u001b[0m\u001b[0;34m,\u001b[0m\u001b[0msingles_2\u001b[0m\u001b[0;34m=\u001b[0m\u001b[0msplitinnings\u001b[0m\u001b[0;34m(\u001b[0m\u001b[0;34m' 1 run,'\u001b[0m\u001b[0;34m,\u001b[0m\u001b[0mcomm_text\u001b[0m\u001b[0;34m,\u001b[0m\u001b[0mball_text\u001b[0m\u001b[0;34m)\u001b[0m\u001b[0;34m\u001b[0m\u001b[0;34m\u001b[0m\u001b[0m\n\u001b[1;32m      4\u001b[0m \u001b[0mdoubles_1\u001b[0m\u001b[0;34m,\u001b[0m\u001b[0mdoubles_2\u001b[0m\u001b[0;34m=\u001b[0m\u001b[0msplitinnings\u001b[0m\u001b[0;34m(\u001b[0m\u001b[0;34m' 2 runs,'\u001b[0m\u001b[0;34m,\u001b[0m\u001b[0mcomm_text\u001b[0m\u001b[0;34m,\u001b[0m\u001b[0mball_text\u001b[0m\u001b[0;34m)\u001b[0m\u001b[0;34m\u001b[0m\u001b[0;34m\u001b[0m\u001b[0m\n\u001b[0;32m----> 5\u001b[0;31m \u001b[0mtriples_1\u001b[0m\u001b[0;34m,\u001b[0m\u001b[0mtriples_2\u001b[0m\u001b[0;34m=\u001b[0m\u001b[0msplitinnings\u001b[0m\u001b[0;34m(\u001b[0m\u001b[0;34m' 3 runs,'\u001b[0m\u001b[0;34m,\u001b[0m\u001b[0mcomm_text\u001b[0m\u001b[0;34m,\u001b[0m\u001b[0mball_text\u001b[0m\u001b[0;34m)\u001b[0m\u001b[0;34m\u001b[0m\u001b[0;34m\u001b[0m\u001b[0m\n\u001b[0m\u001b[1;32m      6\u001b[0m \u001b[0mfours_1\u001b[0m\u001b[0;34m,\u001b[0m\u001b[0mfours_2\u001b[0m\u001b[0;34m=\u001b[0m\u001b[0msplitinnings\u001b[0m\u001b[0;34m(\u001b[0m\u001b[0;34m' FOUR,'\u001b[0m\u001b[0;34m,\u001b[0m\u001b[0mcomm_text\u001b[0m\u001b[0;34m,\u001b[0m\u001b[0mball_text\u001b[0m\u001b[0;34m)\u001b[0m\u001b[0;34m\u001b[0m\u001b[0;34m\u001b[0m\u001b[0m\n\u001b[1;32m      7\u001b[0m \u001b[0msixes_1\u001b[0m\u001b[0;34m,\u001b[0m\u001b[0msixes_2\u001b[0m\u001b[0;34m=\u001b[0m\u001b[0msplitinnings\u001b[0m\u001b[0;34m(\u001b[0m\u001b[0;34m' SIX,'\u001b[0m\u001b[0;34m,\u001b[0m\u001b[0mcomm_text\u001b[0m\u001b[0;34m,\u001b[0m\u001b[0mball_text\u001b[0m\u001b[0;34m)\u001b[0m\u001b[0;34m\u001b[0m\u001b[0;34m\u001b[0m\u001b[0m\n",
      "\u001b[0;32m<ipython-input-613-b6b685d9e59b>\u001b[0m in \u001b[0;36msplitinnings\u001b[0;34m(str, comm_text, ball_text)\u001b[0m\n\u001b[1;32m      5\u001b[0m         \u001b[0;32mreturn\u001b[0m \u001b[0;36m0\u001b[0m\u001b[0;34m\u001b[0m\u001b[0;34m\u001b[0m\u001b[0m\n\u001b[1;32m      6\u001b[0m     \u001b[0;32melse\u001b[0m\u001b[0;34m:\u001b[0m\u001b[0;34m\u001b[0m\u001b[0;34m\u001b[0m\u001b[0m\n\u001b[0;32m----> 7\u001b[0;31m         \u001b[0ma\u001b[0m\u001b[0;34m,\u001b[0m\u001b[0mb\u001b[0m\u001b[0;34m=\u001b[0m\u001b[0msplitdf\u001b[0m\u001b[0;34m(\u001b[0m\u001b[0mdf\u001b[0m\u001b[0;34m)\u001b[0m\u001b[0;34m\u001b[0m\u001b[0;34m\u001b[0m\u001b[0m\n\u001b[0m\u001b[1;32m      8\u001b[0m         \u001b[0;32mreturn\u001b[0m \u001b[0ma\u001b[0m\u001b[0;34m,\u001b[0m\u001b[0mb\u001b[0m\u001b[0;34m\u001b[0m\u001b[0;34m\u001b[0m\u001b[0m\n",
      "\u001b[0;32m<ipython-input-612-f5ab8e8539ec>\u001b[0m in \u001b[0;36msplitdf\u001b[0;34m(df)\u001b[0m\n\u001b[1;32m     13\u001b[0m             \u001b[0mdf1\u001b[0m \u001b[0;34m=\u001b[0m \u001b[0mdf\u001b[0m\u001b[0;34m.\u001b[0m\u001b[0miloc\u001b[0m\u001b[0;34m[\u001b[0m\u001b[0;34m:\u001b[0m\u001b[0mi\u001b[0m\u001b[0;34m,\u001b[0m \u001b[0;34m:\u001b[0m\u001b[0;34m]\u001b[0m\u001b[0;34m\u001b[0m\u001b[0;34m\u001b[0m\u001b[0m\n\u001b[1;32m     14\u001b[0m             \u001b[0mdf2\u001b[0m \u001b[0;34m=\u001b[0m \u001b[0mdf\u001b[0m\u001b[0;34m.\u001b[0m\u001b[0miloc\u001b[0m\u001b[0;34m[\u001b[0m\u001b[0mi\u001b[0m\u001b[0;34m:\u001b[0m\u001b[0;34m,\u001b[0m \u001b[0;34m:\u001b[0m\u001b[0;34m]\u001b[0m\u001b[0;34m\u001b[0m\u001b[0;34m\u001b[0m\u001b[0m\n\u001b[0;32m---> 15\u001b[0;31m     \u001b[0;32mreturn\u001b[0m \u001b[0mdf1\u001b[0m\u001b[0;34m,\u001b[0m\u001b[0mdf2\u001b[0m\u001b[0;34m\u001b[0m\u001b[0;34m\u001b[0m\u001b[0m\n\u001b[0m",
      "\u001b[0;31mUnboundLocalError\u001b[0m: local variable 'df1' referenced before assignment"
     ]
    }
   ],
   "source": [
    "wickets_1,wickets_2=splitinnings(', out ',comm_text,ball_text)\n",
    "dots_1,dots_2=splitinnings(' no run,',comm_text,ball_text)\n",
    "singles_1,singles_2=splitinnings(' 1 run,',comm_text,ball_text)\n",
    "doubles_1,doubles_2=splitinnings(' 2 runs,',comm_text,ball_text)\n",
    "triples_1,triples_2=splitinnings(' 3 runs,',comm_text,ball_text)\n",
    "fours_1,fours_2=splitinnings(' FOUR,',comm_text,ball_text)\n",
    "sixes_1,sixes_2=splitinnings(' SIX,',comm_text,ball_text)"
   ]
  },
  {
   "cell_type": "code",
   "execution_count": null,
   "metadata": {},
   "outputs": [],
   "source": [
    "f1,f2=splitinnings(' FOUR,',comm_text,ball_text)"
   ]
  },
  {
   "cell_type": "code",
   "execution_count": null,
   "metadata": {},
   "outputs": [],
   "source": [
    "df5=pd.DataFrame({'A':[]})"
   ]
  },
  {
   "cell_type": "code",
   "execution_count": null,
   "metadata": {},
   "outputs": [],
   "source": [
    "df5.empty"
   ]
  },
  {
   "cell_type": "code",
   "execution_count": 615,
   "metadata": {},
   "outputs": [],
   "source": [
    "def triples(str,comm_text,ball_text):\n",
    "    sb,sc=makedf(str,comm_text,ball_text)\n",
    "    df=pd.DataFrame({'ball':sb,'comm':sc})\n",
    "    return df"
   ]
  },
  {
   "cell_type": "code",
   "execution_count": 617,
   "metadata": {},
   "outputs": [],
   "source": [
    "df6=triples(' 3 runs,',comm_text,ball_text)"
   ]
  },
  {
   "cell_type": "code",
   "execution_count": 618,
   "metadata": {},
   "outputs": [
    {
     "data": {
      "text/html": [
       "<div>\n",
       "<style scoped>\n",
       "    .dataframe tbody tr th:only-of-type {\n",
       "        vertical-align: middle;\n",
       "    }\n",
       "\n",
       "    .dataframe tbody tr th {\n",
       "        vertical-align: top;\n",
       "    }\n",
       "\n",
       "    .dataframe thead th {\n",
       "        text-align: right;\n",
       "    }\n",
       "</style>\n",
       "<table border=\"1\" class=\"dataframe\">\n",
       "  <thead>\n",
       "    <tr style=\"text-align: right;\">\n",
       "      <th></th>\n",
       "      <th>ball</th>\n",
       "      <th>comm</th>\n",
       "    </tr>\n",
       "  </thead>\n",
       "  <tbody>\n",
       "    <tr>\n",
       "      <td>0</td>\n",
       "      <td>2.2</td>\n",
       "      <td>Prasidh to Warner, 3 runs, in the channel outs...</td>\n",
       "    </tr>\n",
       "  </tbody>\n",
       "</table>\n",
       "</div>"
      ],
      "text/plain": [
       "   ball                                               comm\n",
       "0   2.2  Prasidh to Warner, 3 runs, in the channel outs..."
      ]
     },
     "execution_count": 618,
     "metadata": {},
     "output_type": "execute_result"
    }
   ],
   "source": [
    "df6"
   ]
  },
  {
   "cell_type": "code",
   "execution_count": 619,
   "metadata": {},
   "outputs": [
    {
     "ename": "UnboundLocalError",
     "evalue": "local variable 'df1' referenced before assignment",
     "output_type": "error",
     "traceback": [
      "\u001b[0;31m---------------------------------------------------------------------------\u001b[0m",
      "\u001b[0;31mUnboundLocalError\u001b[0m                         Traceback (most recent call last)",
      "\u001b[0;32m<ipython-input-619-6e6b35cbe355>\u001b[0m in \u001b[0;36m<module>\u001b[0;34m\u001b[0m\n\u001b[0;32m----> 1\u001b[0;31m \u001b[0msplitdf\u001b[0m\u001b[0;34m(\u001b[0m\u001b[0mdf6\u001b[0m\u001b[0;34m)\u001b[0m\u001b[0;34m\u001b[0m\u001b[0;34m\u001b[0m\u001b[0m\n\u001b[0m",
      "\u001b[0;32m<ipython-input-612-f5ab8e8539ec>\u001b[0m in \u001b[0;36msplitdf\u001b[0;34m(df)\u001b[0m\n\u001b[1;32m     13\u001b[0m             \u001b[0mdf1\u001b[0m \u001b[0;34m=\u001b[0m \u001b[0mdf\u001b[0m\u001b[0;34m.\u001b[0m\u001b[0miloc\u001b[0m\u001b[0;34m[\u001b[0m\u001b[0;34m:\u001b[0m\u001b[0mi\u001b[0m\u001b[0;34m,\u001b[0m \u001b[0;34m:\u001b[0m\u001b[0;34m]\u001b[0m\u001b[0;34m\u001b[0m\u001b[0;34m\u001b[0m\u001b[0m\n\u001b[1;32m     14\u001b[0m             \u001b[0mdf2\u001b[0m \u001b[0;34m=\u001b[0m \u001b[0mdf\u001b[0m\u001b[0;34m.\u001b[0m\u001b[0miloc\u001b[0m\u001b[0;34m[\u001b[0m\u001b[0mi\u001b[0m\u001b[0;34m:\u001b[0m\u001b[0;34m,\u001b[0m \u001b[0;34m:\u001b[0m\u001b[0;34m]\u001b[0m\u001b[0;34m\u001b[0m\u001b[0;34m\u001b[0m\u001b[0m\n\u001b[0;32m---> 15\u001b[0;31m     \u001b[0;32mreturn\u001b[0m \u001b[0mdf1\u001b[0m\u001b[0;34m,\u001b[0m\u001b[0mdf2\u001b[0m\u001b[0;34m\u001b[0m\u001b[0;34m\u001b[0m\u001b[0m\n\u001b[0m",
      "\u001b[0;31mUnboundLocalError\u001b[0m: local variable 'df1' referenced before assignment"
     ]
    }
   ],
   "source": [
    "splitdf(df6)"
   ]
  },
  {
   "cell_type": "code",
   "execution_count": null,
   "metadata": {},
   "outputs": [],
   "source": []
  }
 ],
 "metadata": {
  "kernelspec": {
   "display_name": "Python 3",
   "language": "python",
   "name": "python3"
  },
  "language_info": {
   "codemirror_mode": {
    "name": "ipython",
    "version": 3
   },
   "file_extension": ".py",
   "mimetype": "text/x-python",
   "name": "python",
   "nbconvert_exporter": "python",
   "pygments_lexer": "ipython3",
   "version": "3.7.4"
  }
 },
 "nbformat": 4,
 "nbformat_minor": 2
}
