{
 "cells": [
  {
   "cell_type": "code",
   "execution_count": 111,
   "metadata": {},
   "outputs": [],
   "source": [
    "import numpy as np\n",
    "import pandas as pd\n"
   ]
  },
  {
   "cell_type": "code",
   "execution_count": 536,
   "metadata": {},
   "outputs": [],
   "source": [
    "raw_data=pd.read_csv('deliveries.csv')\n",
    "wk_raw_data=pd.read_csv('IPLWK.csv')"
   ]
  },
  {
   "cell_type": "code",
   "execution_count": 552,
   "metadata": {
    "scrolled": true
   },
   "outputs": [],
   "source": [
    "data=raw_data.copy()\n",
    "wk_data=wk_raw_data.copy()\n",
    "data.head()\n",
    "flatten = lambda r: [item for sublist in r for item in sublist]"
   ]
  },
  {
   "cell_type": "code",
   "execution_count": 350,
   "metadata": {
    "scrolled": true
   },
   "outputs": [
    {
     "data": {
      "text/html": [
       "<div>\n",
       "<style scoped>\n",
       "    .dataframe tbody tr th:only-of-type {\n",
       "        vertical-align: middle;\n",
       "    }\n",
       "\n",
       "    .dataframe tbody tr th {\n",
       "        vertical-align: top;\n",
       "    }\n",
       "\n",
       "    .dataframe thead th {\n",
       "        text-align: right;\n",
       "    }\n",
       "</style>\n",
       "<table border=\"1\" class=\"dataframe\">\n",
       "  <thead>\n",
       "    <tr style=\"text-align: right;\">\n",
       "      <th></th>\n",
       "      <th>MatchID</th>\n",
       "      <th>Team</th>\n",
       "      <th>WK</th>\n",
       "    </tr>\n",
       "  </thead>\n",
       "  <tbody>\n",
       "    <tr>\n",
       "      <td>0</td>\n",
       "      <td>0</td>\n",
       "      <td>Sunrisers Hyderabad</td>\n",
       "      <td>NV Ojha</td>\n",
       "    </tr>\n",
       "    <tr>\n",
       "      <td>1</td>\n",
       "      <td>0</td>\n",
       "      <td>Royal Challengers Bangalore</td>\n",
       "      <td>KM Jadhav</td>\n",
       "    </tr>\n",
       "    <tr>\n",
       "      <td>2</td>\n",
       "      <td>1</td>\n",
       "      <td>Mumbai Indians</td>\n",
       "      <td>PA Patel</td>\n",
       "    </tr>\n",
       "    <tr>\n",
       "      <td>3</td>\n",
       "      <td>1</td>\n",
       "      <td>Rising Pune Supergiant</td>\n",
       "      <td>MS Dhoni</td>\n",
       "    </tr>\n",
       "    <tr>\n",
       "      <td>4</td>\n",
       "      <td>2</td>\n",
       "      <td>Gujarat Lions</td>\n",
       "      <td>KD Karthik</td>\n",
       "    </tr>\n",
       "  </tbody>\n",
       "</table>\n",
       "</div>"
      ],
      "text/plain": [
       "   MatchID                         Team          WK\n",
       "0        0          Sunrisers Hyderabad     NV Ojha\n",
       "1        0  Royal Challengers Bangalore   KM Jadhav\n",
       "2        1               Mumbai Indians    PA Patel\n",
       "3        1       Rising Pune Supergiant    MS Dhoni\n",
       "4        2                Gujarat Lions  KD Karthik"
      ]
     },
     "execution_count": 350,
     "metadata": {},
     "output_type": "execute_result"
    }
   ],
   "source": [
    "wk_data.head()"
   ]
  },
  {
   "cell_type": "code",
   "execution_count": 347,
   "metadata": {},
   "outputs": [],
   "source": [
    "IPL_2008=data.loc[(data['match_id']>=60)&(data['match_id']<=117)]\n",
    "IPL_2009=data.loc[(data['match_id']>=118)&(data['match_id']<=174)]\n",
    "IPL_2010=data.loc[(data['match_id']>=175)&(data['match_id']<=234)]\n",
    "IPL_2011=data.loc[(data['match_id']>=235)&(data['match_id']<=307)]\n",
    "IPL_2012=data.loc[(data['match_id']>=308)&(data['match_id']<=381)]\n",
    "IPL_2013=data.loc[(data['match_id']>=382)&(data['match_id']<=457)]\n",
    "IPL_2014=data.loc[(data['match_id']>=458)&(data['match_id']<=517)]\n",
    "IPL_2015=data.loc[(data['match_id']>=518)&(data['match_id']<=576)]\n",
    "IPL_2016=data.loc[(data['match_id']>=577)&(data['match_id']<=636)]\n",
    "IPL_2017=data.loc[(data['match_id']>=0)&(data['match_id']<=59)]\n",
    "IPL_2018=data.loc[(data['match_id']>=7894)&(data['match_id']<=10000)]\n",
    "IPL_2019=data.loc[(data['match_id']>=11137)]"
   ]
  },
  {
   "cell_type": "code",
   "execution_count": 115,
   "metadata": {},
   "outputs": [],
   "source": [
    "years=[2008,2009,2010,2011,2012,2013,2014,2015,2016,2017,2018,2019]"
   ]
  },
  {
   "cell_type": "code",
   "execution_count": 116,
   "metadata": {},
   "outputs": [],
   "source": [
    "IPL=[IPL_2008,IPL_2009,IPL_2010,IPL_2011,IPL_2012,IPL_2013,IPL_2014,IPL_2015,IPL_2016,IPL_2017,IPL_2018,IPL_2019]"
   ]
  },
  {
   "cell_type": "code",
   "execution_count": 117,
   "metadata": {},
   "outputs": [],
   "source": [
    "def bowler(str,start,end):\n",
    "    a=[]\n",
    "    for i in range(start-1,end):\n",
    "        b=IPL[i]\n",
    "        c=b[b['bowler']==str]\n",
    "        a.append(c)\n",
    "    return a"
   ]
  },
  {
   "cell_type": "code",
   "execution_count": 118,
   "metadata": {},
   "outputs": [],
   "source": [
    "def wickets(m,start,end):\n",
    "    a=[]\n",
    "    for i in range(start-1,end):\n",
    "        bowler=m[i]\n",
    "        wickets=bowler.dropna(subset=['player_dismissed'])\n",
    "        wickets=wickets[wickets.dismissal_kind!='run out']\n",
    "        a.append(wickets)\n",
    "    return a"
   ]
  },
  {
   "cell_type": "code",
   "execution_count": 119,
   "metadata": {},
   "outputs": [
    {
     "data": {
      "text/plain": [
       "12"
      ]
     },
     "execution_count": 119,
     "metadata": {},
     "output_type": "execute_result"
    }
   ],
   "source": [
    "m=bowler('SL Malinga',1,12)\n",
    "w=wickets(m,1,12)\n",
    "len(w)"
   ]
  },
  {
   "cell_type": "code",
   "execution_count": 120,
   "metadata": {
    "scrolled": false
   },
   "outputs": [],
   "source": [
    "def calc_fib(w):\n",
    "    total=[]\n",
    "    fiw=[]\n",
    "    fib_percent=[]\n",
    "    for i in range(len(w)):\n",
    "        a=w[i]\n",
    "        total.append(a.shape[0])\n",
    "        b=a[a['fielder'].isnull()]\n",
    "        fiw.append(b.shape[0])\n",
    "        if a.shape[0]!=0:\n",
    "            c=float(100*b.shape[0]/a.shape[0])\n",
    "            fib_percent.append(round(c,2))\n",
    "        else:\n",
    "            fib_percent.append(0)\n",
    "    return total,fiw ,fib_percent   "
   ]
  },
  {
   "cell_type": "code",
   "execution_count": 121,
   "metadata": {
    "scrolled": true
   },
   "outputs": [],
   "source": [
    "total_malinga,fiw_malinga,final_fib_malinga=calc_fib(w)"
   ]
  },
  {
   "cell_type": "code",
   "execution_count": 122,
   "metadata": {},
   "outputs": [
    {
     "data": {
      "text/plain": [
       "[0, 61.11, 53.33, 64.29, 50.0, 65.0, 37.5, 29.17, 0, 36.36, 0, 6.25]"
      ]
     },
     "execution_count": 122,
     "metadata": {},
     "output_type": "execute_result"
    }
   ],
   "source": [
    "final_fib_malinga"
   ]
  },
  {
   "cell_type": "code",
   "execution_count": 123,
   "metadata": {},
   "outputs": [],
   "source": [
    "class CALC_FIB:\n",
    "    def __init__(self,bowler):\n",
    "        self.bowler=bowler\n",
    "    \n",
    "    def bowler_complete(self):\n",
    "        a=[]\n",
    "        for i in range(12):\n",
    "            b=IPL[i]\n",
    "            c=b[b['bowler']==self.bowler]\n",
    "            a.append(c)\n",
    "        return a\n",
    "\n",
    "    def wickets(self):\n",
    "        a=[]\n",
    "        m=self.bowler_complete()\n",
    "        for i in range(12):\n",
    "            b=m[i]\n",
    "            wickets=b.dropna(subset=['player_dismissed'])\n",
    "            wickets=wickets[wickets.dismissal_kind!='run out']\n",
    "            a.append(wickets)\n",
    "        return a\n",
    "    \n",
    "    def fib_calculator(self):\n",
    "        w=self.wickets()\n",
    "        total=[]\n",
    "        fiw=[]\n",
    "        fib_percent=[]\n",
    "        for i in range(len(w)):\n",
    "            a=w[i]\n",
    "            total.append(a.shape[0])\n",
    "            b=a[a['fielder'].isnull()]\n",
    "            fiw.append(b.shape[0])\n",
    "            if a.shape[0]!=0:\n",
    "                c=float(100*b.shape[0]/a.shape[0])\n",
    "                fib_percent.append(round(c,2))\n",
    "            else:\n",
    "                fib_percent.append(0)\n",
    "        return total,fiw,fib_percent \n",
    "    \n",
    "    def strike_rate(self):\n",
    "        b=self.bowler_complete()\n",
    "        w=self.wickets()\n",
    "        tb=0\n",
    "        total_balls_season=[]\n",
    "        tw=0\n",
    "        for i in range(len(w)):\n",
    "            total_balls_season.append(len(b[i]))\n",
    "            tw=tw+len(w[i])\n",
    "            tb=tb+len(b[i])\n",
    "        if tw!=0:\n",
    "            sr=tb/tw\n",
    "            strike_rate_final=round(sr,2)\n",
    "            return strike_rate_final"
   ]
  },
  {
   "cell_type": "code",
   "execution_count": 124,
   "metadata": {},
   "outputs": [
    {
     "data": {
      "text/plain": [
       "17.49"
      ]
     },
     "execution_count": 124,
     "metadata": {},
     "output_type": "execute_result"
    }
   ],
   "source": [
    "r=CALC_FIB('SL Malinga').fib_calculator()\n",
    "q=CALC_FIB('SL Malinga').strike_rate()\n",
    "q"
   ]
  },
  {
   "cell_type": "code",
   "execution_count": 125,
   "metadata": {},
   "outputs": [
    {
     "data": {
      "text/plain": [
       "[0, 61.11, 53.33, 64.29, 50.0, 65.0, 37.5, 29.17, 0, 36.36, 0, 6.25]"
      ]
     },
     "execution_count": 125,
     "metadata": {},
     "output_type": "execute_result"
    }
   ],
   "source": [
    "r[2]"
   ]
  },
  {
   "cell_type": "code",
   "execution_count": 126,
   "metadata": {},
   "outputs": [],
   "source": [
    "bowlers=data['bowler']"
   ]
  },
  {
   "cell_type": "code",
   "execution_count": 127,
   "metadata": {},
   "outputs": [],
   "source": [
    "q=set(bowlers)"
   ]
  },
  {
   "cell_type": "code",
   "execution_count": 128,
   "metadata": {},
   "outputs": [],
   "source": [
    "k=list(q)"
   ]
  },
  {
   "cell_type": "code",
   "execution_count": 129,
   "metadata": {},
   "outputs": [
    {
     "data": {
      "text/plain": [
       "'CR Woakes'"
      ]
     },
     "execution_count": 129,
     "metadata": {},
     "output_type": "execute_result"
    }
   ],
   "source": [
    "len(k)\n",
    "k[1]"
   ]
  },
  {
   "cell_type": "code",
   "execution_count": 130,
   "metadata": {},
   "outputs": [],
   "source": [
    "bowler_name=[]\n",
    "total_wickets_season=[]\n",
    "fielding_ind_wickets_season=[]\n",
    "fielding_ind_percent=[]\n",
    "sum_total_wickets=[]\n",
    "sum_fiw=[]\n",
    "average_fip=[]\n",
    "strike_r=[]\n",
    "for i in range(len(k)):\n",
    "    r=CALC_FIB(k[i]).fib_calculator()\n",
    "    u=CALC_FIB(k[i]).strike_rate()\n",
    "    if sum(r[0])!=0:\n",
    "        bowler_name.append(k[i])\n",
    "        total_wickets_season.append(r[0])\n",
    "        fielding_ind_wickets_season.append(r[1])\n",
    "        fielding_ind_percent.append(r[2])\n",
    "        sum_total_wickets.append(sum(r[0]))\n",
    "        sum_fiw.append(sum(r[1]))\n",
    "        average_fip.append(100*round(sum(r[1])/sum(r[0]),2))\n",
    "        strike_r.append(u)\n",
    "    "
   ]
  },
  {
   "cell_type": "code",
   "execution_count": 296,
   "metadata": {},
   "outputs": [
    {
     "data": {
      "text/plain": [
       "348"
      ]
     },
     "execution_count": 296,
     "metadata": {},
     "output_type": "execute_result"
    }
   ],
   "source": [
    "len(bowler_name)"
   ]
  },
  {
   "cell_type": "code",
   "execution_count": 132,
   "metadata": {},
   "outputs": [],
   "source": [
    "final_fiwp_bowlers=pd.DataFrame({'Bowler':bowler_name,'Total Wickets':sum_total_wickets,\n",
    "                                 'FIW':sum_fiw,'Average FIWP':average_fip,'Strike Rate':strike_r})"
   ]
  },
  {
   "cell_type": "code",
   "execution_count": 133,
   "metadata": {},
   "outputs": [
    {
     "data": {
      "text/html": [
       "<div>\n",
       "<style scoped>\n",
       "    .dataframe tbody tr th:only-of-type {\n",
       "        vertical-align: middle;\n",
       "    }\n",
       "\n",
       "    .dataframe tbody tr th {\n",
       "        vertical-align: top;\n",
       "    }\n",
       "\n",
       "    .dataframe thead th {\n",
       "        text-align: right;\n",
       "    }\n",
       "</style>\n",
       "<table border=\"1\" class=\"dataframe\">\n",
       "  <thead>\n",
       "    <tr style=\"text-align: right;\">\n",
       "      <th></th>\n",
       "      <th>Bowler</th>\n",
       "      <th>Total Wickets</th>\n",
       "      <th>FIW</th>\n",
       "      <th>Average FIWP</th>\n",
       "      <th>Strike Rate</th>\n",
       "    </tr>\n",
       "  </thead>\n",
       "  <tbody>\n",
       "    <tr>\n",
       "      <td>0</td>\n",
       "      <td>CR Woakes</td>\n",
       "      <td>25</td>\n",
       "      <td>6</td>\n",
       "      <td>24.0</td>\n",
       "      <td>15.84</td>\n",
       "    </tr>\n",
       "    <tr>\n",
       "      <td>1</td>\n",
       "      <td>B Kumar</td>\n",
       "      <td>133</td>\n",
       "      <td>48</td>\n",
       "      <td>36.0</td>\n",
       "      <td>20.35</td>\n",
       "    </tr>\n",
       "    <tr>\n",
       "      <td>2</td>\n",
       "      <td>JJ Bumrah</td>\n",
       "      <td>82</td>\n",
       "      <td>28</td>\n",
       "      <td>34.0</td>\n",
       "      <td>21.93</td>\n",
       "    </tr>\n",
       "    <tr>\n",
       "      <td>3</td>\n",
       "      <td>DNT Zoysa</td>\n",
       "      <td>2</td>\n",
       "      <td>1</td>\n",
       "      <td>50.0</td>\n",
       "      <td>34.50</td>\n",
       "    </tr>\n",
       "    <tr>\n",
       "      <td>4</td>\n",
       "      <td>YA Abdulla</td>\n",
       "      <td>15</td>\n",
       "      <td>5</td>\n",
       "      <td>33.0</td>\n",
       "      <td>14.80</td>\n",
       "    </tr>\n",
       "  </tbody>\n",
       "</table>\n",
       "</div>"
      ],
      "text/plain": [
       "       Bowler  Total Wickets  FIW  Average FIWP  Strike Rate\n",
       "0   CR Woakes             25    6          24.0        15.84\n",
       "1     B Kumar            133   48          36.0        20.35\n",
       "2   JJ Bumrah             82   28          34.0        21.93\n",
       "3   DNT Zoysa              2    1          50.0        34.50\n",
       "4  YA Abdulla             15    5          33.0        14.80"
      ]
     },
     "execution_count": 133,
     "metadata": {},
     "output_type": "execute_result"
    }
   ],
   "source": [
    "final_fiwp_bowlers.head()"
   ]
  },
  {
   "cell_type": "code",
   "execution_count": 134,
   "metadata": {},
   "outputs": [],
   "source": [
    "final_fiwp=final_fiwp_bowlers.sort_values(by='Total Wickets',ascending=False)"
   ]
  },
  {
   "cell_type": "code",
   "execution_count": 135,
   "metadata": {},
   "outputs": [],
   "source": [
    "top_50=final_fiwp.iloc[:51,:]"
   ]
  },
  {
   "cell_type": "code",
   "execution_count": 136,
   "metadata": {},
   "outputs": [],
   "source": [
    "import matplotlib.pyplot as plt\n",
    "import seaborn as sns\n",
    "sns.set()"
   ]
  },
  {
   "cell_type": "code",
   "execution_count": 137,
   "metadata": {},
   "outputs": [
    {
     "data": {
      "text/html": [
       "<div>\n",
       "<style scoped>\n",
       "    .dataframe tbody tr th:only-of-type {\n",
       "        vertical-align: middle;\n",
       "    }\n",
       "\n",
       "    .dataframe tbody tr th {\n",
       "        vertical-align: top;\n",
       "    }\n",
       "\n",
       "    .dataframe thead th {\n",
       "        text-align: right;\n",
       "    }\n",
       "</style>\n",
       "<table border=\"1\" class=\"dataframe\">\n",
       "  <thead>\n",
       "    <tr style=\"text-align: right;\">\n",
       "      <th></th>\n",
       "      <th>Bowler</th>\n",
       "      <th>Total Wickets</th>\n",
       "      <th>FIW</th>\n",
       "      <th>Average FIWP</th>\n",
       "      <th>Strike Rate</th>\n",
       "    </tr>\n",
       "  </thead>\n",
       "  <tbody>\n",
       "    <tr>\n",
       "      <td>142</td>\n",
       "      <td>SL Malinga</td>\n",
       "      <td>170</td>\n",
       "      <td>79</td>\n",
       "      <td>46.0</td>\n",
       "      <td>17.49</td>\n",
       "    </tr>\n",
       "    <tr>\n",
       "      <td>309</td>\n",
       "      <td>A Mishra</td>\n",
       "      <td>156</td>\n",
       "      <td>42</td>\n",
       "      <td>27.0</td>\n",
       "      <td>20.33</td>\n",
       "    </tr>\n",
       "    <tr>\n",
       "      <td>191</td>\n",
       "      <td>Harbhajan Singh</td>\n",
       "      <td>150</td>\n",
       "      <td>49</td>\n",
       "      <td>33.0</td>\n",
       "      <td>23.01</td>\n",
       "    </tr>\n",
       "    <tr>\n",
       "      <td>16</td>\n",
       "      <td>PP Chawla</td>\n",
       "      <td>149</td>\n",
       "      <td>63</td>\n",
       "      <td>42.0</td>\n",
       "      <td>21.19</td>\n",
       "    </tr>\n",
       "    <tr>\n",
       "      <td>123</td>\n",
       "      <td>DJ Bravo</td>\n",
       "      <td>147</td>\n",
       "      <td>34</td>\n",
       "      <td>23.0</td>\n",
       "      <td>18.44</td>\n",
       "    </tr>\n",
       "    <tr>\n",
       "      <td>1</td>\n",
       "      <td>B Kumar</td>\n",
       "      <td>133</td>\n",
       "      <td>48</td>\n",
       "      <td>36.0</td>\n",
       "      <td>20.35</td>\n",
       "    </tr>\n",
       "    <tr>\n",
       "      <td>186</td>\n",
       "      <td>R Ashwin</td>\n",
       "      <td>125</td>\n",
       "      <td>39</td>\n",
       "      <td>31.0</td>\n",
       "      <td>24.13</td>\n",
       "    </tr>\n",
       "    <tr>\n",
       "      <td>338</td>\n",
       "      <td>SP Narine</td>\n",
       "      <td>122</td>\n",
       "      <td>59</td>\n",
       "      <td>48.0</td>\n",
       "      <td>21.31</td>\n",
       "    </tr>\n",
       "    <tr>\n",
       "      <td>163</td>\n",
       "      <td>UT Yadav</td>\n",
       "      <td>119</td>\n",
       "      <td>30</td>\n",
       "      <td>25.0</td>\n",
       "      <td>21.89</td>\n",
       "    </tr>\n",
       "    <tr>\n",
       "      <td>251</td>\n",
       "      <td>RA Jadeja</td>\n",
       "      <td>108</td>\n",
       "      <td>41</td>\n",
       "      <td>38.0</td>\n",
       "      <td>23.53</td>\n",
       "    </tr>\n",
       "    <tr>\n",
       "      <td>116</td>\n",
       "      <td>A Nehra</td>\n",
       "      <td>106</td>\n",
       "      <td>30</td>\n",
       "      <td>28.0</td>\n",
       "      <td>18.62</td>\n",
       "    </tr>\n",
       "    <tr>\n",
       "      <td>13</td>\n",
       "      <td>R Vinay Kumar</td>\n",
       "      <td>105</td>\n",
       "      <td>23</td>\n",
       "      <td>22.0</td>\n",
       "      <td>20.82</td>\n",
       "    </tr>\n",
       "    <tr>\n",
       "      <td>125</td>\n",
       "      <td>Z Khan</td>\n",
       "      <td>103</td>\n",
       "      <td>33</td>\n",
       "      <td>32.0</td>\n",
       "      <td>22.10</td>\n",
       "    </tr>\n",
       "    <tr>\n",
       "      <td>112</td>\n",
       "      <td>YS Chahal</td>\n",
       "      <td>100</td>\n",
       "      <td>26</td>\n",
       "      <td>26.0</td>\n",
       "      <td>18.41</td>\n",
       "    </tr>\n",
       "    <tr>\n",
       "      <td>46</td>\n",
       "      <td>DW Steyn</td>\n",
       "      <td>96</td>\n",
       "      <td>35</td>\n",
       "      <td>36.0</td>\n",
       "      <td>22.99</td>\n",
       "    </tr>\n",
       "    <tr>\n",
       "      <td>104</td>\n",
       "      <td>SR Watson</td>\n",
       "      <td>92</td>\n",
       "      <td>20</td>\n",
       "      <td>22.0</td>\n",
       "      <td>23.23</td>\n",
       "    </tr>\n",
       "    <tr>\n",
       "      <td>68</td>\n",
       "      <td>MM Sharma</td>\n",
       "      <td>91</td>\n",
       "      <td>27</td>\n",
       "      <td>30.0</td>\n",
       "      <td>19.45</td>\n",
       "    </tr>\n",
       "    <tr>\n",
       "      <td>173</td>\n",
       "      <td>RP Singh</td>\n",
       "      <td>90</td>\n",
       "      <td>32</td>\n",
       "      <td>36.0</td>\n",
       "      <td>20.82</td>\n",
       "    </tr>\n",
       "    <tr>\n",
       "      <td>254</td>\n",
       "      <td>P Kumar</td>\n",
       "      <td>90</td>\n",
       "      <td>20</td>\n",
       "      <td>22.0</td>\n",
       "      <td>29.30</td>\n",
       "    </tr>\n",
       "    <tr>\n",
       "      <td>101</td>\n",
       "      <td>PP Ojha</td>\n",
       "      <td>89</td>\n",
       "      <td>20</td>\n",
       "      <td>22.0</td>\n",
       "      <td>21.85</td>\n",
       "    </tr>\n",
       "    <tr>\n",
       "      <td>217</td>\n",
       "      <td>DS Kulkarni</td>\n",
       "      <td>86</td>\n",
       "      <td>18</td>\n",
       "      <td>21.0</td>\n",
       "      <td>21.28</td>\n",
       "    </tr>\n",
       "    <tr>\n",
       "      <td>117</td>\n",
       "      <td>JA Morkel</td>\n",
       "      <td>85</td>\n",
       "      <td>27</td>\n",
       "      <td>32.0</td>\n",
       "      <td>21.26</td>\n",
       "    </tr>\n",
       "    <tr>\n",
       "      <td>94</td>\n",
       "      <td>Sandeep Sharma</td>\n",
       "      <td>83</td>\n",
       "      <td>28</td>\n",
       "      <td>34.0</td>\n",
       "      <td>18.63</td>\n",
       "    </tr>\n",
       "    <tr>\n",
       "      <td>2</td>\n",
       "      <td>JJ Bumrah</td>\n",
       "      <td>82</td>\n",
       "      <td>28</td>\n",
       "      <td>34.0</td>\n",
       "      <td>21.93</td>\n",
       "    </tr>\n",
       "    <tr>\n",
       "      <td>298</td>\n",
       "      <td>IK Pathan</td>\n",
       "      <td>80</td>\n",
       "      <td>31</td>\n",
       "      <td>39.0</td>\n",
       "      <td>26.41</td>\n",
       "    </tr>\n",
       "    <tr>\n",
       "      <td>245</td>\n",
       "      <td>Imran Tahir</td>\n",
       "      <td>79</td>\n",
       "      <td>26</td>\n",
       "      <td>33.0</td>\n",
       "      <td>15.81</td>\n",
       "    </tr>\n",
       "    <tr>\n",
       "      <td>279</td>\n",
       "      <td>JD Unadkat</td>\n",
       "      <td>78</td>\n",
       "      <td>18</td>\n",
       "      <td>23.0</td>\n",
       "      <td>19.76</td>\n",
       "    </tr>\n",
       "    <tr>\n",
       "      <td>36</td>\n",
       "      <td>M Morkel</td>\n",
       "      <td>77</td>\n",
       "      <td>19</td>\n",
       "      <td>25.0</td>\n",
       "      <td>22.06</td>\n",
       "    </tr>\n",
       "    <tr>\n",
       "      <td>33</td>\n",
       "      <td>L Balaji</td>\n",
       "      <td>76</td>\n",
       "      <td>22</td>\n",
       "      <td>29.0</td>\n",
       "      <td>20.71</td>\n",
       "    </tr>\n",
       "    <tr>\n",
       "      <td>128</td>\n",
       "      <td>MM Patel</td>\n",
       "      <td>74</td>\n",
       "      <td>19</td>\n",
       "      <td>26.0</td>\n",
       "      <td>18.68</td>\n",
       "    </tr>\n",
       "    <tr>\n",
       "      <td>282</td>\n",
       "      <td>AR Patel</td>\n",
       "      <td>71</td>\n",
       "      <td>26</td>\n",
       "      <td>37.0</td>\n",
       "      <td>24.58</td>\n",
       "    </tr>\n",
       "    <tr>\n",
       "      <td>195</td>\n",
       "      <td>R Bhatia</td>\n",
       "      <td>71</td>\n",
       "      <td>27</td>\n",
       "      <td>38.0</td>\n",
       "      <td>23.39</td>\n",
       "    </tr>\n",
       "    <tr>\n",
       "      <td>15</td>\n",
       "      <td>MJ McClenaghan</td>\n",
       "      <td>71</td>\n",
       "      <td>13</td>\n",
       "      <td>18.0</td>\n",
       "      <td>18.96</td>\n",
       "    </tr>\n",
       "    <tr>\n",
       "      <td>259</td>\n",
       "      <td>I Sharma</td>\n",
       "      <td>71</td>\n",
       "      <td>20</td>\n",
       "      <td>28.0</td>\n",
       "      <td>28.15</td>\n",
       "    </tr>\n",
       "    <tr>\n",
       "      <td>323</td>\n",
       "      <td>CH Morris</td>\n",
       "      <td>70</td>\n",
       "      <td>26</td>\n",
       "      <td>37.0</td>\n",
       "      <td>19.07</td>\n",
       "    </tr>\n",
       "    <tr>\n",
       "      <td>164</td>\n",
       "      <td>AB Dinda</td>\n",
       "      <td>69</td>\n",
       "      <td>17</td>\n",
       "      <td>25.0</td>\n",
       "      <td>23.03</td>\n",
       "    </tr>\n",
       "    <tr>\n",
       "      <td>330</td>\n",
       "      <td>SK Trivedi</td>\n",
       "      <td>65</td>\n",
       "      <td>19</td>\n",
       "      <td>29.0</td>\n",
       "      <td>23.95</td>\n",
       "    </tr>\n",
       "    <tr>\n",
       "      <td>146</td>\n",
       "      <td>JH Kallis</td>\n",
       "      <td>65</td>\n",
       "      <td>25</td>\n",
       "      <td>38.0</td>\n",
       "      <td>27.68</td>\n",
       "    </tr>\n",
       "    <tr>\n",
       "      <td>331</td>\n",
       "      <td>M Muralitharan</td>\n",
       "      <td>64</td>\n",
       "      <td>23</td>\n",
       "      <td>36.0</td>\n",
       "      <td>24.70</td>\n",
       "    </tr>\n",
       "    <tr>\n",
       "      <td>140</td>\n",
       "      <td>MG Johnson</td>\n",
       "      <td>62</td>\n",
       "      <td>13</td>\n",
       "      <td>21.0</td>\n",
       "      <td>20.98</td>\n",
       "    </tr>\n",
       "    <tr>\n",
       "      <td>237</td>\n",
       "      <td>JP Faulkner</td>\n",
       "      <td>61</td>\n",
       "      <td>20</td>\n",
       "      <td>33.0</td>\n",
       "      <td>21.10</td>\n",
       "    </tr>\n",
       "    <tr>\n",
       "      <td>218</td>\n",
       "      <td>Shakib Al Hasan</td>\n",
       "      <td>59</td>\n",
       "      <td>16</td>\n",
       "      <td>27.0</td>\n",
       "      <td>23.03</td>\n",
       "    </tr>\n",
       "    <tr>\n",
       "      <td>121</td>\n",
       "      <td>SK Warne</td>\n",
       "      <td>57</td>\n",
       "      <td>17</td>\n",
       "      <td>30.0</td>\n",
       "      <td>21.46</td>\n",
       "    </tr>\n",
       "    <tr>\n",
       "      <td>296</td>\n",
       "      <td>KA Pollard</td>\n",
       "      <td>56</td>\n",
       "      <td>13</td>\n",
       "      <td>23.0</td>\n",
       "      <td>22.79</td>\n",
       "    </tr>\n",
       "    <tr>\n",
       "      <td>27</td>\n",
       "      <td>Rashid Khan</td>\n",
       "      <td>55</td>\n",
       "      <td>31</td>\n",
       "      <td>56.0</td>\n",
       "      <td>20.11</td>\n",
       "    </tr>\n",
       "    <tr>\n",
       "      <td>344</td>\n",
       "      <td>KV Sharma</td>\n",
       "      <td>55</td>\n",
       "      <td>13</td>\n",
       "      <td>24.0</td>\n",
       "      <td>20.38</td>\n",
       "    </tr>\n",
       "    <tr>\n",
       "      <td>169</td>\n",
       "      <td>AD Russell</td>\n",
       "      <td>55</td>\n",
       "      <td>12</td>\n",
       "      <td>22.0</td>\n",
       "      <td>19.49</td>\n",
       "    </tr>\n",
       "    <tr>\n",
       "      <td>18</td>\n",
       "      <td>S Kaul</td>\n",
       "      <td>49</td>\n",
       "      <td>13</td>\n",
       "      <td>27.0</td>\n",
       "      <td>20.55</td>\n",
       "    </tr>\n",
       "    <tr>\n",
       "      <td>304</td>\n",
       "      <td>SB Jakati</td>\n",
       "      <td>47</td>\n",
       "      <td>14</td>\n",
       "      <td>30.0</td>\n",
       "      <td>23.43</td>\n",
       "    </tr>\n",
       "    <tr>\n",
       "      <td>172</td>\n",
       "      <td>RJ Harris</td>\n",
       "      <td>45</td>\n",
       "      <td>14</td>\n",
       "      <td>31.0</td>\n",
       "      <td>19.22</td>\n",
       "    </tr>\n",
       "    <tr>\n",
       "      <td>99</td>\n",
       "      <td>S Aravind</td>\n",
       "      <td>45</td>\n",
       "      <td>13</td>\n",
       "      <td>29.0</td>\n",
       "      <td>17.51</td>\n",
       "    </tr>\n",
       "  </tbody>\n",
       "</table>\n",
       "</div>"
      ],
      "text/plain": [
       "              Bowler  Total Wickets  FIW  Average FIWP  Strike Rate\n",
       "142       SL Malinga            170   79          46.0        17.49\n",
       "309         A Mishra            156   42          27.0        20.33\n",
       "191  Harbhajan Singh            150   49          33.0        23.01\n",
       "16         PP Chawla            149   63          42.0        21.19\n",
       "123         DJ Bravo            147   34          23.0        18.44\n",
       "1            B Kumar            133   48          36.0        20.35\n",
       "186         R Ashwin            125   39          31.0        24.13\n",
       "338        SP Narine            122   59          48.0        21.31\n",
       "163         UT Yadav            119   30          25.0        21.89\n",
       "251        RA Jadeja            108   41          38.0        23.53\n",
       "116          A Nehra            106   30          28.0        18.62\n",
       "13     R Vinay Kumar            105   23          22.0        20.82\n",
       "125           Z Khan            103   33          32.0        22.10\n",
       "112        YS Chahal            100   26          26.0        18.41\n",
       "46          DW Steyn             96   35          36.0        22.99\n",
       "104        SR Watson             92   20          22.0        23.23\n",
       "68         MM Sharma             91   27          30.0        19.45\n",
       "173         RP Singh             90   32          36.0        20.82\n",
       "254          P Kumar             90   20          22.0        29.30\n",
       "101          PP Ojha             89   20          22.0        21.85\n",
       "217      DS Kulkarni             86   18          21.0        21.28\n",
       "117        JA Morkel             85   27          32.0        21.26\n",
       "94    Sandeep Sharma             83   28          34.0        18.63\n",
       "2          JJ Bumrah             82   28          34.0        21.93\n",
       "298        IK Pathan             80   31          39.0        26.41\n",
       "245      Imran Tahir             79   26          33.0        15.81\n",
       "279       JD Unadkat             78   18          23.0        19.76\n",
       "36          M Morkel             77   19          25.0        22.06\n",
       "33          L Balaji             76   22          29.0        20.71\n",
       "128         MM Patel             74   19          26.0        18.68\n",
       "282         AR Patel             71   26          37.0        24.58\n",
       "195         R Bhatia             71   27          38.0        23.39\n",
       "15    MJ McClenaghan             71   13          18.0        18.96\n",
       "259         I Sharma             71   20          28.0        28.15\n",
       "323        CH Morris             70   26          37.0        19.07\n",
       "164         AB Dinda             69   17          25.0        23.03\n",
       "330       SK Trivedi             65   19          29.0        23.95\n",
       "146        JH Kallis             65   25          38.0        27.68\n",
       "331   M Muralitharan             64   23          36.0        24.70\n",
       "140       MG Johnson             62   13          21.0        20.98\n",
       "237      JP Faulkner             61   20          33.0        21.10\n",
       "218  Shakib Al Hasan             59   16          27.0        23.03\n",
       "121         SK Warne             57   17          30.0        21.46\n",
       "296       KA Pollard             56   13          23.0        22.79\n",
       "27       Rashid Khan             55   31          56.0        20.11\n",
       "344        KV Sharma             55   13          24.0        20.38\n",
       "169       AD Russell             55   12          22.0        19.49\n",
       "18            S Kaul             49   13          27.0        20.55\n",
       "304        SB Jakati             47   14          30.0        23.43\n",
       "172        RJ Harris             45   14          31.0        19.22\n",
       "99         S Aravind             45   13          29.0        17.51"
      ]
     },
     "execution_count": 137,
     "metadata": {},
     "output_type": "execute_result"
    }
   ],
   "source": [
    "top_50"
   ]
  },
  {
   "cell_type": "code",
   "execution_count": 138,
   "metadata": {
    "scrolled": true
   },
   "outputs": [],
   "source": [
    "#sns.pairplot(top_50)"
   ]
  },
  {
   "cell_type": "code",
   "execution_count": 208,
   "metadata": {},
   "outputs": [],
   "source": [
    "def yearly_fiwp(b_name):\n",
    "    years_func=[2008,2009,2010,2011,2012,2013,2014,2015,2016,2017,2018,2019]\n",
    "    b=bowler_name.index(b_name)\n",
    "    t=total_wickets_season[b]\n",
    "    f=fielding_ind_percent[b]\n",
    "    y=years_func\n",
    "    present=[]\n",
    "    fiwp=[]\n",
    "    wickets=[]\n",
    "    played=[]\n",
    "    for i in range(len(t)):\n",
    "        if t[i]!=0:\n",
    "            present.append(i)\n",
    "    for i in range(len(present)):\n",
    "        played.append(y[present[i]])\n",
    "        wickets.append(t[present[i]])\n",
    "        fiwp.append(f[present[i]])\n",
    "    return present,played,wickets,fiwp"
   ]
  },
  {
   "cell_type": "code",
   "execution_count": 209,
   "metadata": {},
   "outputs": [],
   "source": [
    "%matplotlib inline"
   ]
  },
  {
   "cell_type": "code",
   "execution_count": 210,
   "metadata": {
    "scrolled": true
   },
   "outputs": [
    {
     "data": {
      "text/plain": [
       "([1, 2, 3, 4, 5, 6, 7, 9, 11],\n",
       " [2009, 2010, 2011, 2012, 2013, 2014, 2015, 2017, 2019],\n",
       " [18, 15, 28, 22, 20, 16, 24, 11, 16],\n",
       " [61.11, 53.33, 64.29, 50.0, 65.0, 37.5, 29.17, 36.36, 6.25])"
      ]
     },
     "execution_count": 210,
     "metadata": {},
     "output_type": "execute_result"
    }
   ],
   "source": [
    "yearly_fiwp('SL Malinga')"
   ]
  },
  {
   "cell_type": "code",
   "execution_count": 211,
   "metadata": {},
   "outputs": [
    {
     "data": {
      "text/plain": [
       "([9, 10, 11], [2017, 2018, 2019], [17, 21, 17], [70.59, 57.14, 41.18])"
      ]
     },
     "execution_count": 211,
     "metadata": {},
     "output_type": "execute_result"
    }
   ],
   "source": [
    "yearly_fiwp('Rashid Khan')"
   ]
  },
  {
   "cell_type": "code",
   "execution_count": 212,
   "metadata": {
    "scrolled": false
   },
   "outputs": [
    {
     "data": {
      "text/plain": [
       "([7, 8, 9, 10, 11],\n",
       " [2015, 2016, 2017, 2018, 2019],\n",
       " [18, 17, 19, 14, 3],\n",
       " [0.0, 29.41, 31.58, 14.29, 0.0])"
      ]
     },
     "execution_count": 212,
     "metadata": {},
     "output_type": "execute_result"
    }
   ],
   "source": [
    "yearly_fiwp('MJ McClenaghan')"
   ]
  },
  {
   "cell_type": "code",
   "execution_count": 213,
   "metadata": {
    "scrolled": true
   },
   "outputs": [
    {
     "data": {
      "text/plain": [
       "([0, 1, 2, 3, 4, 5, 7, 8, 10, 11],\n",
       " [2008, 2009, 2010, 2011, 2012, 2013, 2015, 2016, 2018, 2019],\n",
       " [11, 11, 4, 6, 15, 32, 26, 17, 14, 11],\n",
       " [45.45, 9.09, 25.0, 16.67, 26.67, 28.12, 11.54, 47.06, 7.14, 9.09])"
      ]
     },
     "execution_count": 213,
     "metadata": {},
     "output_type": "execute_result"
    }
   ],
   "source": [
    "yearly_fiwp('DJ Bravo')"
   ]
  },
  {
   "cell_type": "code",
   "execution_count": 297,
   "metadata": {},
   "outputs": [],
   "source": [
    "def plot_fiwp(b_name):\n",
    "    b=yearly_fiwp(b_name)\n",
    "    wickets=b[2]\n",
    "    marker=[]\n",
    "    for i in range(len(wickets)):\n",
    "        marker.append(wickets[i]**2)\n",
    "    fiwp=b[3]\n",
    "    y=b[1]\n",
    "    mean=np.mean(fiwp)\n",
    "    league_mean=26.35\n",
    "    league_mean_list=[]\n",
    "    mean_list=[]\n",
    "    for i in range(len(wickets)):\n",
    "        mean_list.append(mean)\n",
    "        league_mean_list.append(league_mean)\n",
    "    plt.figure(figsize=(7,4))\n",
    "    ax = plt.axes()\n",
    "    plt.ylim(-10,80 )\n",
    "    # Setting the background color\n",
    "    ax.set_facecolor(\"khaki\")\n",
    "    ax.tick_params(axis='both', which='major', labelsize=16)\n",
    "    #plt.scatter(y,t,label='WICKETS')\n",
    "    plt.scatter(y,fiwp,label='FIWP',s=marker,color='maroon')\n",
    "    #plt.plot(y,t)\n",
    "    plt.plot(y,fiwp,color='maroon')\n",
    "    plt.plot(y,mean_list,color='maroon',linestyle='--',linewidth=5,label='Bowler Mean')\n",
    "    plt.plot(y,league_mean_list,color='black',linestyle='--',linewidth=3,label='League Mean')\n",
    "    plt.title(b_name,fontsize=20)\n",
    "    plt.legend(bbox_to_anchor=(1.05, 1), loc='upper left',prop={'size': 14}, borderaxespad=0.)\n",
    "    plt.show()"
   ]
  },
  {
   "cell_type": "code",
   "execution_count": 323,
   "metadata": {},
   "outputs": [
    {
     "data": {
      "image/png": "[encoded data removed]",
      "text/plain": [
       "<Figure size 504x288 with 1 Axes>"
      ]
     },
     "metadata": {
      "needs_background": "light"
     },
     "output_type": "display_data"
    }
   ],
   "source": [
    "plot_fiwp('DJ Bravo')"
   ]
  },
  {
   "cell_type": "code",
   "execution_count": 322,
   "metadata": {},
   "outputs": [
    {
     "data": {
      "image/png": "[encoded data removed]",
      "text/plain": [
       "<Figure size 504x288 with 1 Axes>"
      ]
     },
     "metadata": {
      "needs_background": "light"
     },
     "output_type": "display_data"
    }
   ],
   "source": [
    "plot_fiwp('Washington Sundar')"
   ]
  },
  {
   "cell_type": "code",
   "execution_count": 500,
   "metadata": {},
   "outputs": [
    {
     "data": {
      "text/plain": [
       "12"
      ]
     },
     "execution_count": 500,
     "metadata": {},
     "output_type": "execute_result"
    }
   ],
   "source": [
    "i=CALC_FIB('SL Malinga').wickets()\n",
    "len(i)"
   ]
  },
  {
   "cell_type": "code",
   "execution_count": 554,
   "metadata": {},
   "outputs": [],
   "source": [
    "def wkincl(bowler_name):\n",
    "    all_wickets=CALC_FIB(bowler_name).wickets()\n",
    "    wk_wickets=[]\n",
    "    #year_wickets=[]\n",
    "    for i in range(len(all_wickets)):\n",
    "        wk_pairs=[]\n",
    "        b=all_wickets[i]\n",
    "        for j in range(len(b)):\n",
    "            m1=all_wickets[i].iloc[j,0]\n",
    "            m2=wk_data[wk_data['MatchID']==m1]\n",
    "            wk=list(m2['WK'])\n",
    "            wk_pairs.append(wk)\n",
    "        wk_season=set(flatten(wk_pairs))\n",
    "        q=b[(b['fielder'].isin(wk_season))]\n",
    "        wk_wickets.append(q)\n",
    "    return wk_wickets"
   ]
  },
  {
   "cell_type": "code",
   "execution_count": 538,
   "metadata": {},
   "outputs": [
    {
     "name": "stdout",
     "output_type": "stream",
     "text": [
      "['Q de Kock', 'MS Dhoni']\n",
      "['Q de Kock', 'MS Dhoni']\n",
      "['Q de Kock', 'MS Dhoni']\n",
      "['PA Patel', 'Q de Kock']\n",
      "['PA Patel', 'Q de Kock']\n",
      "['PA Patel', 'Q de Kock']\n",
      "['PA Patel', 'Q de Kock']\n",
      "['Q de Kock', 'RR Pant']\n",
      "['Q de Kock', 'AT Rayudu']\n",
      "['Q de Kock', 'AT Rayudu']\n",
      "['Q de Kock', 'AT Rayudu']\n",
      "['Q de Kock', 'AT Rayudu']\n",
      "['KD Karthik', 'Q de Kock']\n",
      "['KD Karthik', 'Q de Kock']\n",
      "['KD Karthik', 'Q de Kock']\n",
      "['Q de Kock', 'MS Dhoni']\n"
     ]
    }
   ],
   "source": [
    "i11=i[11]\n",
    "r=[]\n",
    "for j in range(len(i11)):\n",
    "    m1=i[11].iloc[j,0]\n",
    "    m2=wk_data[wk_data['MatchID']==m1]\n",
    "    m3=list(m2['WK'])\n",
    "    print(m3)\n",
    "    r.append(m3)"
   ]
  },
  {
   "cell_type": "code",
   "execution_count": 539,
   "metadata": {},
   "outputs": [
    {
     "data": {
      "text/plain": [
       "16"
      ]
     },
     "execution_count": 539,
     "metadata": {},
     "output_type": "execute_result"
    }
   ],
   "source": [
    "len(i11)"
   ]
  },
  {
   "cell_type": "code",
   "execution_count": 540,
   "metadata": {
    "scrolled": false
   },
   "outputs": [
    {
     "data": {
      "text/plain": [
       "{'AT Rayudu', 'KD Karthik', 'MS Dhoni', 'PA Patel', 'Q de Kock', 'RR Pant'}"
      ]
     },
     "execution_count": 540,
     "metadata": {},
     "output_type": "execute_result"
    }
   ],
   "source": [
    "\n",
    "w1=set(flatten(r))\n",
    "w1"
   ]
  },
  {
   "cell_type": "code",
   "execution_count": 542,
   "metadata": {},
   "outputs": [],
   "source": [
    "q=i11[(i11['fielder'].isin(w1))]"
   ]
  },
  {
   "cell_type": "code",
   "execution_count": 556,
   "metadata": {
    "scrolled": false
   },
   "outputs": [],
   "source": [
    "mali=wkincl('SL Malinga')"
   ]
  },
  {
   "cell_type": "code",
   "execution_count": 565,
   "metadata": {},
   "outputs": [
    {
     "data": {
      "text/html": [
       "<div>\n",
       "<style scoped>\n",
       "    .dataframe tbody tr th:only-of-type {\n",
       "        vertical-align: middle;\n",
       "    }\n",
       "\n",
       "    .dataframe tbody tr th {\n",
       "        vertical-align: top;\n",
       "    }\n",
       "\n",
       "    .dataframe thead th {\n",
       "        text-align: right;\n",
       "    }\n",
       "</style>\n",
       "<table border=\"1\" class=\"dataframe\">\n",
       "  <thead>\n",
       "    <tr style=\"text-align: right;\">\n",
       "      <th></th>\n",
       "      <th>match_id</th>\n",
       "      <th>inning</th>\n",
       "      <th>batting_team</th>\n",
       "      <th>bowling_team</th>\n",
       "      <th>over</th>\n",
       "      <th>ball</th>\n",
       "      <th>batsman</th>\n",
       "      <th>non_striker</th>\n",
       "      <th>bowler</th>\n",
       "      <th>is_super_over</th>\n",
       "      <th>...</th>\n",
       "      <th>bye_runs</th>\n",
       "      <th>legbye_runs</th>\n",
       "      <th>noball_runs</th>\n",
       "      <th>penalty_runs</th>\n",
       "      <th>batsman_runs</th>\n",
       "      <th>extra_runs</th>\n",
       "      <th>total_runs</th>\n",
       "      <th>player_dismissed</th>\n",
       "      <th>dismissal_kind</th>\n",
       "      <th>fielder</th>\n",
       "    </tr>\n",
       "  </thead>\n",
       "  <tbody>\n",
       "    <tr>\n",
       "      <td>124286</td>\n",
       "      <td>524</td>\n",
       "      <td>1</td>\n",
       "      <td>Kings XI Punjab</td>\n",
       "      <td>Mumbai Indians</td>\n",
       "      <td>16</td>\n",
       "      <td>3</td>\n",
       "      <td>DA Miller</td>\n",
       "      <td>GJ Bailey</td>\n",
       "      <td>SL Malinga</td>\n",
       "      <td>0</td>\n",
       "      <td>...</td>\n",
       "      <td>0</td>\n",
       "      <td>0</td>\n",
       "      <td>0</td>\n",
       "      <td>0</td>\n",
       "      <td>0</td>\n",
       "      <td>0</td>\n",
       "      <td>0</td>\n",
       "      <td>DA Miller</td>\n",
       "      <td>caught</td>\n",
       "      <td>AP Tare</td>\n",
       "    </tr>\n",
       "    <tr>\n",
       "      <td>128525</td>\n",
       "      <td>541</td>\n",
       "      <td>2</td>\n",
       "      <td>Sunrisers Hyderabad</td>\n",
       "      <td>Mumbai Indians</td>\n",
       "      <td>19</td>\n",
       "      <td>1</td>\n",
       "      <td>GH Vihari</td>\n",
       "      <td>KV Sharma</td>\n",
       "      <td>SL Malinga</td>\n",
       "      <td>0</td>\n",
       "      <td>...</td>\n",
       "      <td>0</td>\n",
       "      <td>0</td>\n",
       "      <td>0</td>\n",
       "      <td>0</td>\n",
       "      <td>0</td>\n",
       "      <td>0</td>\n",
       "      <td>0</td>\n",
       "      <td>GH Vihari</td>\n",
       "      <td>caught</td>\n",
       "      <td>PA Patel</td>\n",
       "    </tr>\n",
       "    <tr>\n",
       "      <td>131668</td>\n",
       "      <td>556</td>\n",
       "      <td>1</td>\n",
       "      <td>Delhi Daredevils</td>\n",
       "      <td>Mumbai Indians</td>\n",
       "      <td>1</td>\n",
       "      <td>1</td>\n",
       "      <td>MA Agarwal</td>\n",
       "      <td>SS Iyer</td>\n",
       "      <td>SL Malinga</td>\n",
       "      <td>0</td>\n",
       "      <td>...</td>\n",
       "      <td>0</td>\n",
       "      <td>0</td>\n",
       "      <td>0</td>\n",
       "      <td>0</td>\n",
       "      <td>0</td>\n",
       "      <td>0</td>\n",
       "      <td>0</td>\n",
       "      <td>MA Agarwal</td>\n",
       "      <td>caught</td>\n",
       "      <td>PA Patel</td>\n",
       "    </tr>\n",
       "    <tr>\n",
       "      <td>134418</td>\n",
       "      <td>567</td>\n",
       "      <td>2</td>\n",
       "      <td>Kolkata Knight Riders</td>\n",
       "      <td>Mumbai Indians</td>\n",
       "      <td>16</td>\n",
       "      <td>5</td>\n",
       "      <td>AD Russell</td>\n",
       "      <td>YK Pathan</td>\n",
       "      <td>SL Malinga</td>\n",
       "      <td>0</td>\n",
       "      <td>...</td>\n",
       "      <td>0</td>\n",
       "      <td>0</td>\n",
       "      <td>0</td>\n",
       "      <td>0</td>\n",
       "      <td>0</td>\n",
       "      <td>0</td>\n",
       "      <td>0</td>\n",
       "      <td>AD Russell</td>\n",
       "      <td>caught</td>\n",
       "      <td>PA Patel</td>\n",
       "    </tr>\n",
       "  </tbody>\n",
       "</table>\n",
       "<p>4 rows × 21 columns</p>\n",
       "</div>"
      ],
      "text/plain": [
       "        match_id  inning           batting_team    bowling_team  over  ball  \\\n",
       "124286       524       1        Kings XI Punjab  Mumbai Indians    16     3   \n",
       "128525       541       2    Sunrisers Hyderabad  Mumbai Indians    19     1   \n",
       "131668       556       1       Delhi Daredevils  Mumbai Indians     1     1   \n",
       "134418       567       2  Kolkata Knight Riders  Mumbai Indians    16     5   \n",
       "\n",
       "           batsman non_striker      bowler  is_super_over  ...  bye_runs  \\\n",
       "124286   DA Miller   GJ Bailey  SL Malinga              0  ...         0   \n",
       "128525   GH Vihari   KV Sharma  SL Malinga              0  ...         0   \n",
       "131668  MA Agarwal     SS Iyer  SL Malinga              0  ...         0   \n",
       "134418  AD Russell   YK Pathan  SL Malinga              0  ...         0   \n",
       "\n",
       "        legbye_runs  noball_runs  penalty_runs  batsman_runs  extra_runs  \\\n",
       "124286            0            0             0             0           0   \n",
       "128525            0            0             0             0           0   \n",
       "131668            0            0             0             0           0   \n",
       "134418            0            0             0             0           0   \n",
       "\n",
       "        total_runs  player_dismissed dismissal_kind   fielder  \n",
       "124286           0         DA Miller         caught   AP Tare  \n",
       "128525           0         GH Vihari         caught  PA Patel  \n",
       "131668           0        MA Agarwal         caught  PA Patel  \n",
       "134418           0        AD Russell         caught  PA Patel  \n",
       "\n",
       "[4 rows x 21 columns]"
      ]
     },
     "execution_count": 565,
     "metadata": {},
     "output_type": "execute_result"
    }
   ],
   "source": [
    "\n",
    "for i in range(len(mali)):\n",
    "    "
   ]
  },
  {
   "cell_type": "code",
   "execution_count": null,
   "metadata": {},
   "outputs": [],
   "source": []
  }
 ],
 "metadata": {
  "kernelspec": {
   "display_name": "Python 3",
   "language": "python",
   "name": "python3"
  },
  "language_info": {
   "codemirror_mode": {
    "name": "ipython",
    "version": 3
   },
   "file_extension": ".py",
   "mimetype": "text/x-python",
   "name": "python",
   "nbconvert_exporter": "python",
   "pygments_lexer": "ipython3",
   "version": "3.7.4"
  }
 },
 "nbformat": 4,
 "nbformat_minor": 2
}
