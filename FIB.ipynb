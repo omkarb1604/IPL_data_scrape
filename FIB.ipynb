{
 "cells": [
  {
   "cell_type": "code",
   "execution_count": 588,
   "metadata": {},
   "outputs": [],
   "source": [
    "import numpy as np\n",
    "import pandas as pd\n"
   ]
  },
  {
   "cell_type": "code",
   "execution_count": 589,
   "metadata": {},
   "outputs": [],
   "source": [
    "raw_data=pd.read_csv('deliveries.csv')\n",
    "wk_raw_data=pd.read_csv('IPLWK.csv')"
   ]
  },
  {
   "cell_type": "code",
   "execution_count": 590,
   "metadata": {
    "scrolled": true
   },
   "outputs": [],
   "source": [
    "data=raw_data.copy()\n",
    "wk_data=wk_raw_data.copy()\n",
    "data.head()\n",
    "flatten = lambda r: [item for sublist in r for item in sublist]"
   ]
  },
  {
   "cell_type": "code",
   "execution_count": 591,
   "metadata": {
    "scrolled": true
   },
   "outputs": [
    {
     "data": {
      "text/html": [
       "<div>\n",
       "<style scoped>\n",
       "    .dataframe tbody tr th:only-of-type {\n",
       "        vertical-align: middle;\n",
       "    }\n",
       "\n",
       "    .dataframe tbody tr th {\n",
       "        vertical-align: top;\n",
       "    }\n",
       "\n",
       "    .dataframe thead th {\n",
       "        text-align: right;\n",
       "    }\n",
       "</style>\n",
       "<table border=\"1\" class=\"dataframe\">\n",
       "  <thead>\n",
       "    <tr style=\"text-align: right;\">\n",
       "      <th></th>\n",
       "      <th>MatchID</th>\n",
       "      <th>Team</th>\n",
       "      <th>WK</th>\n",
       "      <th>11309</th>\n",
       "    </tr>\n",
       "  </thead>\n",
       "  <tbody>\n",
       "    <tr>\n",
       "      <td>0</td>\n",
       "      <td>0</td>\n",
       "      <td>Sunrisers Hyderabad</td>\n",
       "      <td>NV Ojha</td>\n",
       "      <td>11309.0</td>\n",
       "    </tr>\n",
       "    <tr>\n",
       "      <td>1</td>\n",
       "      <td>0</td>\n",
       "      <td>Royal Challengers Bangalore</td>\n",
       "      <td>KM Jadhav</td>\n",
       "      <td>11310.0</td>\n",
       "    </tr>\n",
       "    <tr>\n",
       "      <td>2</td>\n",
       "      <td>1</td>\n",
       "      <td>Mumbai Indians</td>\n",
       "      <td>PA Patel</td>\n",
       "      <td>11310.0</td>\n",
       "    </tr>\n",
       "    <tr>\n",
       "      <td>3</td>\n",
       "      <td>1</td>\n",
       "      <td>Rising Pune Supergiant</td>\n",
       "      <td>MS Dhoni</td>\n",
       "      <td>11311.0</td>\n",
       "    </tr>\n",
       "    <tr>\n",
       "      <td>4</td>\n",
       "      <td>2</td>\n",
       "      <td>Gujarat Lions</td>\n",
       "      <td>KD Karthik</td>\n",
       "      <td>11311.0</td>\n",
       "    </tr>\n",
       "  </tbody>\n",
       "</table>\n",
       "</div>"
      ],
      "text/plain": [
       "   MatchID                         Team          WK    11309\n",
       "0        0          Sunrisers Hyderabad     NV Ojha  11309.0\n",
       "1        0  Royal Challengers Bangalore   KM Jadhav  11310.0\n",
       "2        1               Mumbai Indians    PA Patel  11310.0\n",
       "3        1       Rising Pune Supergiant    MS Dhoni  11311.0\n",
       "4        2                Gujarat Lions  KD Karthik  11311.0"
      ]
     },
     "execution_count": 591,
     "metadata": {},
     "output_type": "execute_result"
    }
   ],
   "source": [
    "wk_data.head()"
   ]
  },
  {
   "cell_type": "code",
   "execution_count": 592,
   "metadata": {},
   "outputs": [],
   "source": [
    "IPL_2008=data.loc[(data['match_id']>=60)&(data['match_id']<=117)]\n",
    "IPL_2009=data.loc[(data['match_id']>=118)&(data['match_id']<=174)]\n",
    "IPL_2010=data.loc[(data['match_id']>=175)&(data['match_id']<=234)]\n",
    "IPL_2011=data.loc[(data['match_id']>=235)&(data['match_id']<=307)]\n",
    "IPL_2012=data.loc[(data['match_id']>=308)&(data['match_id']<=381)]\n",
    "IPL_2013=data.loc[(data['match_id']>=382)&(data['match_id']<=457)]\n",
    "IPL_2014=data.loc[(data['match_id']>=458)&(data['match_id']<=517)]\n",
    "IPL_2015=data.loc[(data['match_id']>=518)&(data['match_id']<=576)]\n",
    "IPL_2016=data.loc[(data['match_id']>=577)&(data['match_id']<=636)]\n",
    "IPL_2017=data.loc[(data['match_id']>=0)&(data['match_id']<=59)]\n",
    "IPL_2018=data.loc[(data['match_id']>=7894)&(data['match_id']<=10000)]\n",
    "IPL_2019=data.loc[(data['match_id']>=11137)]"
   ]
  },
  {
   "cell_type": "code",
   "execution_count": 593,
   "metadata": {},
   "outputs": [],
   "source": [
    "years=[2008,2009,2010,2011,2012,2013,2014,2015,2016,2017,2018,2019]"
   ]
  },
  {
   "cell_type": "code",
   "execution_count": 594,
   "metadata": {},
   "outputs": [],
   "source": [
    "IPL=[IPL_2008,IPL_2009,IPL_2010,IPL_2011,IPL_2012,IPL_2013,IPL_2014,IPL_2015,IPL_2016,IPL_2017,IPL_2018,IPL_2019]"
   ]
  },
  {
   "cell_type": "code",
   "execution_count": 595,
   "metadata": {},
   "outputs": [],
   "source": [
    "def bowler(str,start,end):\n",
    "    a=[]\n",
    "    for i in range(start-1,end):\n",
    "        b=IPL[i]\n",
    "        c=b[b['bowler']==str]\n",
    "        a.append(c)\n",
    "    return a"
   ]
  },
  {
   "cell_type": "code",
   "execution_count": 596,
   "metadata": {},
   "outputs": [],
   "source": [
    "def wickets(m,start,end):\n",
    "    a=[]\n",
    "    for i in range(start-1,end):\n",
    "        bowler=m[i]\n",
    "        wickets=bowler.dropna(subset=['player_dismissed'])\n",
    "        wickets=wickets[wickets.dismissal_kind!='run out']\n",
    "        a.append(wickets)\n",
    "    return a"
   ]
  },
  {
   "cell_type": "code",
   "execution_count": 597,
   "metadata": {},
   "outputs": [
    {
     "data": {
      "text/plain": [
       "12"
      ]
     },
     "execution_count": 597,
     "metadata": {},
     "output_type": "execute_result"
    }
   ],
   "source": [
    "m=bowler('SL Malinga',1,12)\n",
    "w=wickets(m,1,12)\n",
    "len(w)"
   ]
  },
  {
   "cell_type": "code",
   "execution_count": 598,
   "metadata": {
    "scrolled": false
   },
   "outputs": [],
   "source": [
    "def calc_fib(w):\n",
    "    total=[]\n",
    "    fiw=[]\n",
    "    fib_percent=[]\n",
    "    for i in range(len(w)):\n",
    "        a=w[i]\n",
    "        total.append(a.shape[0])\n",
    "        b=a[a['fielder'].isnull()]\n",
    "        fiw.append(b.shape[0])\n",
    "        if a.shape[0]!=0:\n",
    "            c=float(100*b.shape[0]/a.shape[0])\n",
    "            fib_percent.append(round(c,2))\n",
    "        else:\n",
    "            fib_percent.append(0)\n",
    "    return total,fiw ,fib_percent   "
   ]
  },
  {
   "cell_type": "code",
   "execution_count": 599,
   "metadata": {
    "scrolled": true
   },
   "outputs": [],
   "source": [
    "total_malinga,fiw_malinga,final_fib_malinga=calc_fib(w)"
   ]
  },
  {
   "cell_type": "code",
   "execution_count": 600,
   "metadata": {},
   "outputs": [
    {
     "data": {
      "text/plain": [
       "[0, 61.11, 53.33, 64.29, 50.0, 65.0, 37.5, 29.17, 0, 36.36, 0, 6.25]"
      ]
     },
     "execution_count": 600,
     "metadata": {},
     "output_type": "execute_result"
    }
   ],
   "source": [
    "final_fib_malinga"
   ]
  },
  {
   "cell_type": "code",
   "execution_count": 601,
   "metadata": {},
   "outputs": [],
   "source": [
    "class CALC_FIB:\n",
    "    def __init__(self,bowler):\n",
    "        self.bowler=bowler\n",
    "    \n",
    "    def bowler_complete(self):\n",
    "        a=[]\n",
    "        for i in range(12):\n",
    "            b=IPL[i]\n",
    "            c=b[b['bowler']==self.bowler]\n",
    "            a.append(c)\n",
    "        return a\n",
    "\n",
    "    def wickets(self):\n",
    "        a=[]\n",
    "        m=self.bowler_complete()\n",
    "        for i in range(12):\n",
    "            b=m[i]\n",
    "            wickets=b.dropna(subset=['player_dismissed'])\n",
    "            wickets=wickets[wickets.dismissal_kind!='run out']\n",
    "            a.append(wickets)\n",
    "        return a\n",
    "    \n",
    "    def wkincl(self):\n",
    "        all_wickets=self.wickets()\n",
    "        wk_wickets=[]\n",
    "        a=[]\n",
    "        for i in range(len(all_wickets)):\n",
    "            wk_pairs=[]\n",
    "            b=all_wickets[i]\n",
    "            for j in range(len(b)):\n",
    "                m1=all_wickets[i].iloc[j,0]\n",
    "                m2=wk_data[wk_data['MatchID']==m1]\n",
    "                wk=list(m2['WK'])\n",
    "                wk_pairs.append(wk)\n",
    "            wk_season=set(flatten(wk_pairs))\n",
    "            q=b[(b['fielder'].isin(wk_season))]\n",
    "            wk_wickets.append(q)\n",
    "        for i in range(len(wk_wickets)):\n",
    "            a.append(len(wk_wickets[i]))\n",
    "        return a\n",
    "    \n",
    "    def fib_calculator(self):\n",
    "        w=self.wickets()\n",
    "        wk=self.wkincl()\n",
    "        total=[]\n",
    "        fiw=[]\n",
    "        fib_percent=[]\n",
    "        for i in range(len(w)):\n",
    "            a=w[i]\n",
    "            total.append(a.shape[0])\n",
    "            b=a[a['fielder'].isnull()]\n",
    "            e=b.shape[0]+wk[i]\n",
    "            fiw.append(e)\n",
    "            if a.shape[0]!=0:\n",
    "                c=float(100*e/a.shape[0])\n",
    "                fib_percent.append(round(c,2))\n",
    "            else:\n",
    "                fib_percent.append(0)\n",
    "        return total,fiw,fib_percent \n",
    "    \n",
    "    def strike_rate(self):\n",
    "        b=self.bowler_complete()\n",
    "        w=self.wickets()\n",
    "        tb=0\n",
    "        total_balls_season=[]\n",
    "        tw=0\n",
    "        for i in range(len(w)):\n",
    "            total_balls_season.append(len(b[i]))\n",
    "            tw=tw+len(w[i])\n",
    "            tb=tb+len(b[i])\n",
    "        if tw!=0:\n",
    "            sr=tb/tw\n",
    "            strike_rate_final=round(sr,2)\n",
    "            return strike_rate_final"
   ]
  },
  {
   "cell_type": "code",
   "execution_count": 602,
   "metadata": {},
   "outputs": [
    {
     "data": {
      "text/plain": [
       "([0, 18, 15, 28, 22, 20, 16, 24, 0, 11, 0, 16],\n",
       " [0, 12, 9, 20, 12, 13, 7, 11, 0, 4, 0, 6],\n",
       " [0, 66.67, 60.0, 71.43, 54.55, 65.0, 43.75, 45.83, 0, 36.36, 0, 37.5])"
      ]
     },
     "execution_count": 602,
     "metadata": {},
     "output_type": "execute_result"
    }
   ],
   "source": [
    "r=CALC_FIB('SL Malinga').fib_calculator()\n",
    "q=CALC_FIB('SL Malinga').wkincl()\n",
    "r"
   ]
  },
  {
   "cell_type": "code",
   "execution_count": 603,
   "metadata": {},
   "outputs": [
    {
     "data": {
      "text/plain": [
       "[0, 66.67, 60.0, 71.43, 54.55, 65.0, 43.75, 45.83, 0, 36.36, 0, 37.5]"
      ]
     },
     "execution_count": 603,
     "metadata": {},
     "output_type": "execute_result"
    }
   ],
   "source": [
    "r[2]"
   ]
  },
  {
   "cell_type": "code",
   "execution_count": 604,
   "metadata": {},
   "outputs": [],
   "source": [
    "bowlers=data['bowler']"
   ]
  },
  {
   "cell_type": "code",
   "execution_count": 605,
   "metadata": {},
   "outputs": [],
   "source": [
    "q=set(bowlers)"
   ]
  },
  {
   "cell_type": "code",
   "execution_count": 606,
   "metadata": {},
   "outputs": [],
   "source": [
    "k=list(q)"
   ]
  },
  {
   "cell_type": "code",
   "execution_count": 607,
   "metadata": {},
   "outputs": [
    {
     "data": {
      "text/plain": [
       "'CR Woakes'"
      ]
     },
     "execution_count": 607,
     "metadata": {},
     "output_type": "execute_result"
    }
   ],
   "source": [
    "len(k)\n",
    "k[1]"
   ]
  },
  {
   "cell_type": "code",
   "execution_count": 608,
   "metadata": {},
   "outputs": [],
   "source": [
    "bowler_name=[]\n",
    "total_wickets_season=[]\n",
    "fielding_ind_wickets_season=[]\n",
    "fielding_ind_percent=[]\n",
    "sum_total_wickets=[]\n",
    "sum_fiw=[]\n",
    "average_fip=[]\n",
    "strike_r=[]\n",
    "for i in range(len(k)):\n",
    "    r=CALC_FIB(k[i]).fib_calculator()\n",
    "    u=CALC_FIB(k[i]).strike_rate()\n",
    "    if sum(r[0])!=0:\n",
    "        bowler_name.append(k[i])\n",
    "        total_wickets_season.append(r[0])\n",
    "        fielding_ind_wickets_season.append(r[1])\n",
    "        fielding_ind_percent.append(r[2])\n",
    "        sum_total_wickets.append(sum(r[0]))\n",
    "        sum_fiw.append(sum(r[1]))\n",
    "        average_fip.append(100*round(sum(r[1])/sum(r[0]),2))\n",
    "        strike_r.append(u)\n",
    "    "
   ]
  },
  {
   "cell_type": "code",
   "execution_count": 628,
   "metadata": {},
   "outputs": [
    {
     "data": {
      "text/plain": [
       "36.9367816091954"
      ]
     },
     "execution_count": 628,
     "metadata": {},
     "output_type": "execute_result"
    }
   ],
   "source": [
    "len(bowler_name)\n",
    "np.mean(average_fip)"
   ]
  },
  {
   "cell_type": "code",
   "execution_count": 610,
   "metadata": {},
   "outputs": [],
   "source": [
    "final_fiwp_bowlers=pd.DataFrame({'Bowler':bowler_name,'Total Wickets':sum_total_wickets,\n",
    "                                 'FIW':sum_fiw,'Average FIWP':average_fip,'Strike Rate':strike_r})"
   ]
  },
  {
   "cell_type": "code",
   "execution_count": 611,
   "metadata": {},
   "outputs": [
    {
     "data": {
      "text/html": [
       "<div>\n",
       "<style scoped>\n",
       "    .dataframe tbody tr th:only-of-type {\n",
       "        vertical-align: middle;\n",
       "    }\n",
       "\n",
       "    .dataframe tbody tr th {\n",
       "        vertical-align: top;\n",
       "    }\n",
       "\n",
       "    .dataframe thead th {\n",
       "        text-align: right;\n",
       "    }\n",
       "</style>\n",
       "<table border=\"1\" class=\"dataframe\">\n",
       "  <thead>\n",
       "    <tr style=\"text-align: right;\">\n",
       "      <th></th>\n",
       "      <th>Bowler</th>\n",
       "      <th>Total Wickets</th>\n",
       "      <th>FIW</th>\n",
       "      <th>Average FIWP</th>\n",
       "      <th>Strike Rate</th>\n",
       "    </tr>\n",
       "  </thead>\n",
       "  <tbody>\n",
       "    <tr>\n",
       "      <td>0</td>\n",
       "      <td>CR Woakes</td>\n",
       "      <td>25</td>\n",
       "      <td>6</td>\n",
       "      <td>24.0</td>\n",
       "      <td>15.84</td>\n",
       "    </tr>\n",
       "    <tr>\n",
       "      <td>1</td>\n",
       "      <td>B Kumar</td>\n",
       "      <td>133</td>\n",
       "      <td>61</td>\n",
       "      <td>46.0</td>\n",
       "      <td>20.35</td>\n",
       "    </tr>\n",
       "    <tr>\n",
       "      <td>2</td>\n",
       "      <td>JJ Bumrah</td>\n",
       "      <td>82</td>\n",
       "      <td>38</td>\n",
       "      <td>46.0</td>\n",
       "      <td>21.93</td>\n",
       "    </tr>\n",
       "    <tr>\n",
       "      <td>3</td>\n",
       "      <td>DNT Zoysa</td>\n",
       "      <td>2</td>\n",
       "      <td>1</td>\n",
       "      <td>50.0</td>\n",
       "      <td>34.50</td>\n",
       "    </tr>\n",
       "    <tr>\n",
       "      <td>4</td>\n",
       "      <td>YA Abdulla</td>\n",
       "      <td>15</td>\n",
       "      <td>6</td>\n",
       "      <td>40.0</td>\n",
       "      <td>14.80</td>\n",
       "    </tr>\n",
       "  </tbody>\n",
       "</table>\n",
       "</div>"
      ],
      "text/plain": [
       "       Bowler  Total Wickets  FIW  Average FIWP  Strike Rate\n",
       "0   CR Woakes             25    6          24.0        15.84\n",
       "1     B Kumar            133   61          46.0        20.35\n",
       "2   JJ Bumrah             82   38          46.0        21.93\n",
       "3   DNT Zoysa              2    1          50.0        34.50\n",
       "4  YA Abdulla             15    6          40.0        14.80"
      ]
     },
     "execution_count": 611,
     "metadata": {},
     "output_type": "execute_result"
    }
   ],
   "source": [
    "final_fiwp_bowlers.head()"
   ]
  },
  {
   "cell_type": "code",
   "execution_count": 612,
   "metadata": {},
   "outputs": [],
   "source": [
    "final_fiwp=final_fiwp_bowlers.sort_values(by='Total Wickets',ascending=False)"
   ]
  },
  {
   "cell_type": "code",
   "execution_count": 613,
   "metadata": {},
   "outputs": [],
   "source": [
    "top_50=final_fiwp.iloc[:51,:]"
   ]
  },
  {
   "cell_type": "code",
   "execution_count": 614,
   "metadata": {},
   "outputs": [],
   "source": [
    "import matplotlib.pyplot as plt\n",
    "import seaborn as sns\n",
    "sns.set()"
   ]
  },
  {
   "cell_type": "code",
   "execution_count": 615,
   "metadata": {},
   "outputs": [
    {
     "data": {
      "text/html": [
       "<div>\n",
       "<style scoped>\n",
       "    .dataframe tbody tr th:only-of-type {\n",
       "        vertical-align: middle;\n",
       "    }\n",
       "\n",
       "    .dataframe tbody tr th {\n",
       "        vertical-align: top;\n",
       "    }\n",
       "\n",
       "    .dataframe thead th {\n",
       "        text-align: right;\n",
       "    }\n",
       "</style>\n",
       "<table border=\"1\" class=\"dataframe\">\n",
       "  <thead>\n",
       "    <tr style=\"text-align: right;\">\n",
       "      <th></th>\n",
       "      <th>Bowler</th>\n",
       "      <th>Total Wickets</th>\n",
       "      <th>FIW</th>\n",
       "      <th>Average FIWP</th>\n",
       "      <th>Strike Rate</th>\n",
       "    </tr>\n",
       "  </thead>\n",
       "  <tbody>\n",
       "    <tr>\n",
       "      <td>142</td>\n",
       "      <td>SL Malinga</td>\n",
       "      <td>170</td>\n",
       "      <td>94</td>\n",
       "      <td>55.0</td>\n",
       "      <td>17.49</td>\n",
       "    </tr>\n",
       "    <tr>\n",
       "      <td>309</td>\n",
       "      <td>A Mishra</td>\n",
       "      <td>156</td>\n",
       "      <td>79</td>\n",
       "      <td>51.0</td>\n",
       "      <td>20.33</td>\n",
       "    </tr>\n",
       "    <tr>\n",
       "      <td>191</td>\n",
       "      <td>Harbhajan Singh</td>\n",
       "      <td>150</td>\n",
       "      <td>75</td>\n",
       "      <td>50.0</td>\n",
       "      <td>23.01</td>\n",
       "    </tr>\n",
       "    <tr>\n",
       "      <td>16</td>\n",
       "      <td>PP Chawla</td>\n",
       "      <td>149</td>\n",
       "      <td>85</td>\n",
       "      <td>57.0</td>\n",
       "      <td>21.19</td>\n",
       "    </tr>\n",
       "    <tr>\n",
       "      <td>123</td>\n",
       "      <td>DJ Bravo</td>\n",
       "      <td>147</td>\n",
       "      <td>57</td>\n",
       "      <td>39.0</td>\n",
       "      <td>18.44</td>\n",
       "    </tr>\n",
       "    <tr>\n",
       "      <td>1</td>\n",
       "      <td>B Kumar</td>\n",
       "      <td>133</td>\n",
       "      <td>61</td>\n",
       "      <td>46.0</td>\n",
       "      <td>20.35</td>\n",
       "    </tr>\n",
       "    <tr>\n",
       "      <td>186</td>\n",
       "      <td>R Ashwin</td>\n",
       "      <td>125</td>\n",
       "      <td>53</td>\n",
       "      <td>42.0</td>\n",
       "      <td>24.13</td>\n",
       "    </tr>\n",
       "    <tr>\n",
       "      <td>338</td>\n",
       "      <td>SP Narine</td>\n",
       "      <td>122</td>\n",
       "      <td>75</td>\n",
       "      <td>61.0</td>\n",
       "      <td>21.31</td>\n",
       "    </tr>\n",
       "    <tr>\n",
       "      <td>163</td>\n",
       "      <td>UT Yadav</td>\n",
       "      <td>119</td>\n",
       "      <td>47</td>\n",
       "      <td>39.0</td>\n",
       "      <td>21.89</td>\n",
       "    </tr>\n",
       "    <tr>\n",
       "      <td>251</td>\n",
       "      <td>RA Jadeja</td>\n",
       "      <td>108</td>\n",
       "      <td>58</td>\n",
       "      <td>54.0</td>\n",
       "      <td>23.53</td>\n",
       "    </tr>\n",
       "    <tr>\n",
       "      <td>116</td>\n",
       "      <td>A Nehra</td>\n",
       "      <td>106</td>\n",
       "      <td>44</td>\n",
       "      <td>42.0</td>\n",
       "      <td>18.62</td>\n",
       "    </tr>\n",
       "    <tr>\n",
       "      <td>13</td>\n",
       "      <td>R Vinay Kumar</td>\n",
       "      <td>105</td>\n",
       "      <td>43</td>\n",
       "      <td>41.0</td>\n",
       "      <td>20.82</td>\n",
       "    </tr>\n",
       "    <tr>\n",
       "      <td>125</td>\n",
       "      <td>Z Khan</td>\n",
       "      <td>103</td>\n",
       "      <td>38</td>\n",
       "      <td>37.0</td>\n",
       "      <td>22.10</td>\n",
       "    </tr>\n",
       "    <tr>\n",
       "      <td>112</td>\n",
       "      <td>YS Chahal</td>\n",
       "      <td>100</td>\n",
       "      <td>41</td>\n",
       "      <td>41.0</td>\n",
       "      <td>18.41</td>\n",
       "    </tr>\n",
       "    <tr>\n",
       "      <td>46</td>\n",
       "      <td>DW Steyn</td>\n",
       "      <td>96</td>\n",
       "      <td>52</td>\n",
       "      <td>54.0</td>\n",
       "      <td>22.99</td>\n",
       "    </tr>\n",
       "    <tr>\n",
       "      <td>104</td>\n",
       "      <td>SR Watson</td>\n",
       "      <td>92</td>\n",
       "      <td>39</td>\n",
       "      <td>42.0</td>\n",
       "      <td>23.23</td>\n",
       "    </tr>\n",
       "    <tr>\n",
       "      <td>68</td>\n",
       "      <td>MM Sharma</td>\n",
       "      <td>91</td>\n",
       "      <td>33</td>\n",
       "      <td>36.0</td>\n",
       "      <td>19.45</td>\n",
       "    </tr>\n",
       "    <tr>\n",
       "      <td>173</td>\n",
       "      <td>RP Singh</td>\n",
       "      <td>90</td>\n",
       "      <td>44</td>\n",
       "      <td>49.0</td>\n",
       "      <td>20.82</td>\n",
       "    </tr>\n",
       "    <tr>\n",
       "      <td>254</td>\n",
       "      <td>P Kumar</td>\n",
       "      <td>90</td>\n",
       "      <td>36</td>\n",
       "      <td>40.0</td>\n",
       "      <td>29.30</td>\n",
       "    </tr>\n",
       "    <tr>\n",
       "      <td>101</td>\n",
       "      <td>PP Ojha</td>\n",
       "      <td>89</td>\n",
       "      <td>37</td>\n",
       "      <td>42.0</td>\n",
       "      <td>21.85</td>\n",
       "    </tr>\n",
       "    <tr>\n",
       "      <td>217</td>\n",
       "      <td>DS Kulkarni</td>\n",
       "      <td>86</td>\n",
       "      <td>31</td>\n",
       "      <td>36.0</td>\n",
       "      <td>21.28</td>\n",
       "    </tr>\n",
       "    <tr>\n",
       "      <td>117</td>\n",
       "      <td>JA Morkel</td>\n",
       "      <td>85</td>\n",
       "      <td>38</td>\n",
       "      <td>45.0</td>\n",
       "      <td>21.26</td>\n",
       "    </tr>\n",
       "    <tr>\n",
       "      <td>94</td>\n",
       "      <td>Sandeep Sharma</td>\n",
       "      <td>83</td>\n",
       "      <td>40</td>\n",
       "      <td>48.0</td>\n",
       "      <td>18.63</td>\n",
       "    </tr>\n",
       "    <tr>\n",
       "      <td>2</td>\n",
       "      <td>JJ Bumrah</td>\n",
       "      <td>82</td>\n",
       "      <td>38</td>\n",
       "      <td>46.0</td>\n",
       "      <td>21.93</td>\n",
       "    </tr>\n",
       "    <tr>\n",
       "      <td>298</td>\n",
       "      <td>IK Pathan</td>\n",
       "      <td>80</td>\n",
       "      <td>38</td>\n",
       "      <td>47.0</td>\n",
       "      <td>26.41</td>\n",
       "    </tr>\n",
       "    <tr>\n",
       "      <td>245</td>\n",
       "      <td>Imran Tahir</td>\n",
       "      <td>79</td>\n",
       "      <td>38</td>\n",
       "      <td>48.0</td>\n",
       "      <td>15.81</td>\n",
       "    </tr>\n",
       "    <tr>\n",
       "      <td>279</td>\n",
       "      <td>JD Unadkat</td>\n",
       "      <td>78</td>\n",
       "      <td>27</td>\n",
       "      <td>35.0</td>\n",
       "      <td>19.76</td>\n",
       "    </tr>\n",
       "    <tr>\n",
       "      <td>36</td>\n",
       "      <td>M Morkel</td>\n",
       "      <td>77</td>\n",
       "      <td>32</td>\n",
       "      <td>42.0</td>\n",
       "      <td>22.06</td>\n",
       "    </tr>\n",
       "    <tr>\n",
       "      <td>33</td>\n",
       "      <td>L Balaji</td>\n",
       "      <td>76</td>\n",
       "      <td>34</td>\n",
       "      <td>45.0</td>\n",
       "      <td>20.71</td>\n",
       "    </tr>\n",
       "    <tr>\n",
       "      <td>128</td>\n",
       "      <td>MM Patel</td>\n",
       "      <td>74</td>\n",
       "      <td>29</td>\n",
       "      <td>39.0</td>\n",
       "      <td>18.68</td>\n",
       "    </tr>\n",
       "    <tr>\n",
       "      <td>282</td>\n",
       "      <td>AR Patel</td>\n",
       "      <td>71</td>\n",
       "      <td>35</td>\n",
       "      <td>49.0</td>\n",
       "      <td>24.58</td>\n",
       "    </tr>\n",
       "    <tr>\n",
       "      <td>195</td>\n",
       "      <td>R Bhatia</td>\n",
       "      <td>71</td>\n",
       "      <td>29</td>\n",
       "      <td>41.0</td>\n",
       "      <td>23.39</td>\n",
       "    </tr>\n",
       "    <tr>\n",
       "      <td>15</td>\n",
       "      <td>MJ McClenaghan</td>\n",
       "      <td>71</td>\n",
       "      <td>22</td>\n",
       "      <td>31.0</td>\n",
       "      <td>18.96</td>\n",
       "    </tr>\n",
       "    <tr>\n",
       "      <td>259</td>\n",
       "      <td>I Sharma</td>\n",
       "      <td>71</td>\n",
       "      <td>36</td>\n",
       "      <td>51.0</td>\n",
       "      <td>28.15</td>\n",
       "    </tr>\n",
       "    <tr>\n",
       "      <td>323</td>\n",
       "      <td>CH Morris</td>\n",
       "      <td>70</td>\n",
       "      <td>33</td>\n",
       "      <td>47.0</td>\n",
       "      <td>19.07</td>\n",
       "    </tr>\n",
       "    <tr>\n",
       "      <td>164</td>\n",
       "      <td>AB Dinda</td>\n",
       "      <td>69</td>\n",
       "      <td>27</td>\n",
       "      <td>39.0</td>\n",
       "      <td>23.03</td>\n",
       "    </tr>\n",
       "    <tr>\n",
       "      <td>330</td>\n",
       "      <td>SK Trivedi</td>\n",
       "      <td>65</td>\n",
       "      <td>26</td>\n",
       "      <td>40.0</td>\n",
       "      <td>23.95</td>\n",
       "    </tr>\n",
       "    <tr>\n",
       "      <td>146</td>\n",
       "      <td>JH Kallis</td>\n",
       "      <td>65</td>\n",
       "      <td>34</td>\n",
       "      <td>52.0</td>\n",
       "      <td>27.68</td>\n",
       "    </tr>\n",
       "    <tr>\n",
       "      <td>331</td>\n",
       "      <td>M Muralitharan</td>\n",
       "      <td>64</td>\n",
       "      <td>30</td>\n",
       "      <td>47.0</td>\n",
       "      <td>24.70</td>\n",
       "    </tr>\n",
       "    <tr>\n",
       "      <td>140</td>\n",
       "      <td>MG Johnson</td>\n",
       "      <td>62</td>\n",
       "      <td>25</td>\n",
       "      <td>40.0</td>\n",
       "      <td>20.98</td>\n",
       "    </tr>\n",
       "    <tr>\n",
       "      <td>237</td>\n",
       "      <td>JP Faulkner</td>\n",
       "      <td>61</td>\n",
       "      <td>24</td>\n",
       "      <td>39.0</td>\n",
       "      <td>21.10</td>\n",
       "    </tr>\n",
       "    <tr>\n",
       "      <td>218</td>\n",
       "      <td>Shakib Al Hasan</td>\n",
       "      <td>59</td>\n",
       "      <td>27</td>\n",
       "      <td>46.0</td>\n",
       "      <td>23.03</td>\n",
       "    </tr>\n",
       "    <tr>\n",
       "      <td>121</td>\n",
       "      <td>SK Warne</td>\n",
       "      <td>57</td>\n",
       "      <td>28</td>\n",
       "      <td>49.0</td>\n",
       "      <td>21.46</td>\n",
       "    </tr>\n",
       "    <tr>\n",
       "      <td>296</td>\n",
       "      <td>KA Pollard</td>\n",
       "      <td>56</td>\n",
       "      <td>22</td>\n",
       "      <td>39.0</td>\n",
       "      <td>22.79</td>\n",
       "    </tr>\n",
       "    <tr>\n",
       "      <td>27</td>\n",
       "      <td>Rashid Khan</td>\n",
       "      <td>55</td>\n",
       "      <td>34</td>\n",
       "      <td>62.0</td>\n",
       "      <td>20.11</td>\n",
       "    </tr>\n",
       "    <tr>\n",
       "      <td>344</td>\n",
       "      <td>KV Sharma</td>\n",
       "      <td>55</td>\n",
       "      <td>17</td>\n",
       "      <td>31.0</td>\n",
       "      <td>20.38</td>\n",
       "    </tr>\n",
       "    <tr>\n",
       "      <td>169</td>\n",
       "      <td>AD Russell</td>\n",
       "      <td>55</td>\n",
       "      <td>22</td>\n",
       "      <td>40.0</td>\n",
       "      <td>19.49</td>\n",
       "    </tr>\n",
       "    <tr>\n",
       "      <td>18</td>\n",
       "      <td>S Kaul</td>\n",
       "      <td>49</td>\n",
       "      <td>13</td>\n",
       "      <td>27.0</td>\n",
       "      <td>20.55</td>\n",
       "    </tr>\n",
       "    <tr>\n",
       "      <td>304</td>\n",
       "      <td>SB Jakati</td>\n",
       "      <td>47</td>\n",
       "      <td>21</td>\n",
       "      <td>45.0</td>\n",
       "      <td>23.43</td>\n",
       "    </tr>\n",
       "    <tr>\n",
       "      <td>172</td>\n",
       "      <td>RJ Harris</td>\n",
       "      <td>45</td>\n",
       "      <td>18</td>\n",
       "      <td>40.0</td>\n",
       "      <td>19.22</td>\n",
       "    </tr>\n",
       "    <tr>\n",
       "      <td>99</td>\n",
       "      <td>S Aravind</td>\n",
       "      <td>45</td>\n",
       "      <td>19</td>\n",
       "      <td>42.0</td>\n",
       "      <td>17.51</td>\n",
       "    </tr>\n",
       "  </tbody>\n",
       "</table>\n",
       "</div>"
      ],
      "text/plain": [
       "              Bowler  Total Wickets  FIW  Average FIWP  Strike Rate\n",
       "142       SL Malinga            170   94          55.0        17.49\n",
       "309         A Mishra            156   79          51.0        20.33\n",
       "191  Harbhajan Singh            150   75          50.0        23.01\n",
       "16         PP Chawla            149   85          57.0        21.19\n",
       "123         DJ Bravo            147   57          39.0        18.44\n",
       "1            B Kumar            133   61          46.0        20.35\n",
       "186         R Ashwin            125   53          42.0        24.13\n",
       "338        SP Narine            122   75          61.0        21.31\n",
       "163         UT Yadav            119   47          39.0        21.89\n",
       "251        RA Jadeja            108   58          54.0        23.53\n",
       "116          A Nehra            106   44          42.0        18.62\n",
       "13     R Vinay Kumar            105   43          41.0        20.82\n",
       "125           Z Khan            103   38          37.0        22.10\n",
       "112        YS Chahal            100   41          41.0        18.41\n",
       "46          DW Steyn             96   52          54.0        22.99\n",
       "104        SR Watson             92   39          42.0        23.23\n",
       "68         MM Sharma             91   33          36.0        19.45\n",
       "173         RP Singh             90   44          49.0        20.82\n",
       "254          P Kumar             90   36          40.0        29.30\n",
       "101          PP Ojha             89   37          42.0        21.85\n",
       "217      DS Kulkarni             86   31          36.0        21.28\n",
       "117        JA Morkel             85   38          45.0        21.26\n",
       "94    Sandeep Sharma             83   40          48.0        18.63\n",
       "2          JJ Bumrah             82   38          46.0        21.93\n",
       "298        IK Pathan             80   38          47.0        26.41\n",
       "245      Imran Tahir             79   38          48.0        15.81\n",
       "279       JD Unadkat             78   27          35.0        19.76\n",
       "36          M Morkel             77   32          42.0        22.06\n",
       "33          L Balaji             76   34          45.0        20.71\n",
       "128         MM Patel             74   29          39.0        18.68\n",
       "282         AR Patel             71   35          49.0        24.58\n",
       "195         R Bhatia             71   29          41.0        23.39\n",
       "15    MJ McClenaghan             71   22          31.0        18.96\n",
       "259         I Sharma             71   36          51.0        28.15\n",
       "323        CH Morris             70   33          47.0        19.07\n",
       "164         AB Dinda             69   27          39.0        23.03\n",
       "330       SK Trivedi             65   26          40.0        23.95\n",
       "146        JH Kallis             65   34          52.0        27.68\n",
       "331   M Muralitharan             64   30          47.0        24.70\n",
       "140       MG Johnson             62   25          40.0        20.98\n",
       "237      JP Faulkner             61   24          39.0        21.10\n",
       "218  Shakib Al Hasan             59   27          46.0        23.03\n",
       "121         SK Warne             57   28          49.0        21.46\n",
       "296       KA Pollard             56   22          39.0        22.79\n",
       "27       Rashid Khan             55   34          62.0        20.11\n",
       "344        KV Sharma             55   17          31.0        20.38\n",
       "169       AD Russell             55   22          40.0        19.49\n",
       "18            S Kaul             49   13          27.0        20.55\n",
       "304        SB Jakati             47   21          45.0        23.43\n",
       "172        RJ Harris             45   18          40.0        19.22\n",
       "99         S Aravind             45   19          42.0        17.51"
      ]
     },
     "execution_count": 615,
     "metadata": {},
     "output_type": "execute_result"
    }
   ],
   "source": [
    "top_50"
   ]
  },
  {
   "cell_type": "code",
   "execution_count": 616,
   "metadata": {
    "scrolled": true
   },
   "outputs": [],
   "source": [
    "#sns.pairplot(top_50)"
   ]
  },
  {
   "cell_type": "code",
   "execution_count": 617,
   "metadata": {},
   "outputs": [],
   "source": [
    "def yearly_fiwp(b_name):\n",
    "    years_func=[2008,2009,2010,2011,2012,2013,2014,2015,2016,2017,2018,2019]\n",
    "    b=bowler_name.index(b_name)\n",
    "    t=total_wickets_season[b]\n",
    "    f=fielding_ind_percent[b]\n",
    "    y=years_func\n",
    "    present=[]\n",
    "    fiwp=[]\n",
    "    wickets=[]\n",
    "    played=[]\n",
    "    for i in range(len(t)):\n",
    "        if t[i]!=0:\n",
    "            present.append(i)\n",
    "    for i in range(len(present)):\n",
    "        played.append(y[present[i]])\n",
    "        wickets.append(t[present[i]])\n",
    "        fiwp.append(f[present[i]])\n",
    "    return present,played,wickets,fiwp"
   ]
  },
  {
   "cell_type": "code",
   "execution_count": 618,
   "metadata": {},
   "outputs": [],
   "source": [
    "%matplotlib inline"
   ]
  },
  {
   "cell_type": "code",
   "execution_count": 619,
   "metadata": {
    "scrolled": true
   },
   "outputs": [
    {
     "data": {
      "text/plain": [
       "([1, 2, 3, 4, 5, 6, 7, 9, 11],\n",
       " [2009, 2010, 2011, 2012, 2013, 2014, 2015, 2017, 2019],\n",
       " [18, 15, 28, 22, 20, 16, 24, 11, 16],\n",
       " [66.67, 60.0, 71.43, 54.55, 65.0, 43.75, 45.83, 36.36, 37.5])"
      ]
     },
     "execution_count": 619,
     "metadata": {},
     "output_type": "execute_result"
    }
   ],
   "source": [
    "yearly_fiwp('SL Malinga')"
   ]
  },
  {
   "cell_type": "code",
   "execution_count": 620,
   "metadata": {},
   "outputs": [
    {
     "data": {
      "text/plain": [
       "([9, 10, 11], [2017, 2018, 2019], [17, 21, 17], [70.59, 61.9, 52.94])"
      ]
     },
     "execution_count": 620,
     "metadata": {},
     "output_type": "execute_result"
    }
   ],
   "source": [
    "yearly_fiwp('Rashid Khan')"
   ]
  },
  {
   "cell_type": "code",
   "execution_count": 621,
   "metadata": {
    "scrolled": false
   },
   "outputs": [
    {
     "data": {
      "text/plain": [
       "([7, 8, 9, 10, 11],\n",
       " [2015, 2016, 2017, 2018, 2019],\n",
       " [18, 17, 19, 14, 3],\n",
       " [11.11, 47.06, 42.11, 14.29, 66.67])"
      ]
     },
     "execution_count": 621,
     "metadata": {},
     "output_type": "execute_result"
    }
   ],
   "source": [
    "yearly_fiwp('MJ McClenaghan')"
   ]
  },
  {
   "cell_type": "code",
   "execution_count": 622,
   "metadata": {
    "scrolled": true
   },
   "outputs": [
    {
     "data": {
      "text/plain": [
       "([0, 1, 2, 3, 4, 5, 7, 8, 10, 11],\n",
       " [2008, 2009, 2010, 2011, 2012, 2013, 2015, 2016, 2018, 2019],\n",
       " [11, 11, 4, 6, 15, 32, 26, 17, 14, 11],\n",
       " [63.64, 36.36, 50.0, 16.67, 53.33, 46.88, 23.08, 64.71, 14.29, 9.09])"
      ]
     },
     "execution_count": 622,
     "metadata": {},
     "output_type": "execute_result"
    }
   ],
   "source": [
    "yearly_fiwp('DJ Bravo')"
   ]
  },
  {
   "cell_type": "code",
   "execution_count": 634,
   "metadata": {},
   "outputs": [],
   "source": [
    "def plot_fiwp(b_name):\n",
    "    b=yearly_fiwp(b_name)\n",
    "    wickets=b[2]\n",
    "    marker=[]\n",
    "    for i in range(len(wickets)):\n",
    "        marker.append(wickets[i]**2)\n",
    "    fiwp=b[3]\n",
    "    y=b[1]\n",
    "    mean=np.mean(fiwp)\n",
    "    league_mean=37\n",
    "    league_mean_list=[]\n",
    "    mean_list=[]\n",
    "    for i in range(len(wickets)):\n",
    "        mean_list.append(mean)\n",
    "        league_mean_list.append(league_mean)\n",
    "    plt.figure(figsize=(8,4))\n",
    "    ax = plt.axes()\n",
    "    plt.ylim(-10,100)\n",
    "    # Setting the background color\n",
    "    ax.set_facecolor(\"khaki\")\n",
    "    ax.tick_params(axis='both', which='major', labelsize=16)\n",
    "    #plt.scatter(y,t,label='WICKETS')\n",
    "    plt.scatter(y,fiwp,label='FIWP',s=marker,color='maroon')\n",
    "    #plt.plot(y,t)\n",
    "    plt.plot(y,fiwp,color='maroon')\n",
    "    plt.plot(y,mean_list,color='maroon',linestyle='--',linewidth=5,label='Bowler Mean')\n",
    "    plt.plot(y,league_mean_list,color='black',linestyle='--',linewidth=3,label='League Mean')\n",
    "    plt.title(b_name,fontsize=20)\n",
    "    plt.legend(bbox_to_anchor=(1.05, 1), loc='upper left',prop={'size': 14}, borderaxespad=0.)\n",
    "    plt.show()"
   ]
  },
  {
   "cell_type": "code",
   "execution_count": 636,
   "metadata": {},
   "outputs": [
    {
     "data": {
      "image/png": "[encoded data removed]",
      "text/plain": [
       "<Figure size 576x288 with 1 Axes>"
      ]
     },
     "metadata": {
      "needs_background": "light"
     },
     "output_type": "display_data"
    }
   ],
   "source": [
    "plot_fiwp('Rashid Khan')"
   ]
  },
  {
   "cell_type": "code",
   "execution_count": 625,
   "metadata": {},
   "outputs": [
    {
     "data": {
      "image/png": "[encoded data removed]",
      "text/plain": [
       "<Figure size 504x288 with 1 Axes>"
      ]
     },
     "metadata": {
      "needs_background": "light"
     },
     "output_type": "display_data"
    }
   ],
   "source": [
    "plot_fiwp('Washington Sundar')"
   ]
  }
 ],
 "metadata": {
  "kernelspec": {
   "display_name": "Python 3",
   "language": "python",
   "name": "python3"
  },
  "language_info": {
   "codemirror_mode": {
    "name": "ipython",
    "version": 3
   },
   "file_extension": ".py",
   "mimetype": "text/x-python",
   "name": "python",
   "nbconvert_exporter": "python",
   "pygments_lexer": "ipython3",
   "version": "3.7.4"
  }
 },
 "nbformat": 4,
 "nbformat_minor": 2
}
